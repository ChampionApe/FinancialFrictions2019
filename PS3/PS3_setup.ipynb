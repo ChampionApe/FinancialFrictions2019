{
 "cells": [
  {
   "cell_type": "code",
   "execution_count": 1,
   "metadata": {},
   "outputs": [],
   "source": [
    "import numpy as np\n",
    "import math\n",
    "from scipy import optimize\n",
    "import numba as nb\n",
    "import scipy.stats as stats\n",
    "\n",
    "import ps3_functions as func\n",
    "\n",
    "# For plots:\n",
    "import matplotlib as mpl\n",
    "import matplotlib.pyplot as plt\n",
    "%matplotlib inline\n",
    "plt.style.use('seaborn-whitegrid')\n",
    "mpl.style.use('seaborn')\n",
    "prop_cycle = plt.rcParams[\"axes.prop_cycle\"]\n",
    "colors = prop_cycle.by_key()[\"color\"]\n",
    "import ipywidgets as widgets\n",
    "from ipywidgets import interact, interact_manual"
   ]
  },
  {
   "cell_type": "markdown",
   "metadata": {},
   "source": [
    "The formulas from Q1 are still valid. Now note that:\n",
    "\n",
    "* $c_1^*>c_1^M$ and $c_2^*<c_2^M$: The market allocation over-invests compared to optimal allocation.\n",
    "* Long-run investment is not 'worth it', discount-factor $(\\rho)$ more than offsets productivity $(R)$ $\\Rightarrow$ push consumption towards $t=1$.\n",
    "\n",
    "\n",
    "**Question: Note that $c_1^*>c_1^M$ and $c_2^*<c_2^M$ depends on $(\\rho^2 R)<1$ and not $(\\rho R)<1$. Why?** (Hint: recall that utility from $t=0$ is concave)."
   ]
  },
  {
   "cell_type": "markdown",
   "metadata": {},
   "source": [
    "# PS3, part 1: Fire sales and multiple equilibria"
   ]
  },
  {
   "cell_type": "markdown",
   "metadata": {},
   "source": [
    "The setup for part 1:\n",
    "\n",
    "* Two period economy, $t=0,1$.\n",
    "* Single consumption good, $(c)$.\n",
    "* Continuum of entrepreneurs (E) and financiers (F).\n",
    "* Fixed amount of capital $(\\bar{k})$.\n",
    "* Let $(q_t)$ denote the price of capital. Assume $q_1=\\theta$ be the fixed liquidation price of capital (end of period 1). \n",
    "* **Entrepreneurs:**\n",
    "    * Risk-neutral, i.e. $u_E = c_0^e+c_1^e$.\n",
    "    * At start-of-period $t=0$, $E$ has $b_0$ debt and $k^E_0$ capital. \n",
    "    * Invests in capital for $t=1$ ($k_1^E$).\n",
    "    * Due to a *temporary shock to cash flows* entrepreneurs do not receive any return on $k_0^E$. \n",
    "    * In $t=1$ they apply a linear production technology i.e.\n",
    "        $$\\begin{align}\n",
    "        f(k_1^E) = a k_1^E.\n",
    "        \\end{align}$$\n",
    "    * At $t=0$ the entrepreneur either (1) repays his debt (if $b_0\\leq q_0k_0)$) or (2) renegotiates the level of debt down to $q_0k_0$.\n",
    "    * Faces a credit constraint of the *collateralized assets* type for period $t=1$: $b_1\\leq \\theta k_1$.\n",
    "* **Financiers:**\n",
    "    * Risk-neutral, i.e. $u_F = c_0^F+c_1^F$.\n",
    "    * At the start of period $t=0$, F has capital $k^F_0$ (no debt). \n",
    "    * Has *large* endowments of the consumption good, of size $(e_0,e_1)$ (we will come back to what *large* refers to).\n",
    "    * Applies production technology using capital $(k_t^F)$ following \n",
    "    $$\\begin{align}\n",
    "    G(k_t^F) = k_t^F-\\dfrac{1}{2}\\left(k_t^F\\right)^2.\n",
    "    \\end{align}$$\n",
    "    \n",
    "    \n",
    "Before we proceed to the questions, we note that:\n",
    "\n",
    "* **Efficient allocation** of capital is defined as the level equalizes marginal product of capital across sectors, i.e. \n",
    "    $$\\begin{align}\n",
    "        G'(k^F_1) = 1-k_1^F = a = f'(k_1^E)\n",
    "    \\end{align}$$\n",
    "    In other words: \n",
    "    $$\\begin{align}\n",
    "    k_F^* = 1-a, && k_E^* = \\bar{k}+a-1\n",
    "    \\end{align}$$\n",
    "\n",
    "* This might not be the equilibrium, because of the financial frictions in place (credit-constraint due to e.g. moral hazard)."
   ]
  },
  {
   "cell_type": "markdown",
   "metadata": {},
   "source": [
    "## Q1: Optimization of entrepreneurs"
   ]
  },
  {
   "cell_type": "markdown",
   "metadata": {},
   "source": [
    "First task is to translate the information above on E to a maximization problem. The problem includes (1) utility function, (2)-(3) budgets and (4) collateral constraint (credit-constraint). Comment on each one of them.\n",
    "\n",
    "Next characterize E's demand for capital. Consider what happens in the scenarios:"
   ]
  },
  {
   "cell_type": "markdown",
   "metadata": {},
   "source": [
    "Note that problem is linear in $k_1$. Thus we have corner solutions in general:\n",
    "\n",
    "* If $q_0\\leq \\theta$: $E$ chooses $k_1=$...\n",
    "* If $q_0\\geq \\theta+a$: $E$ chooses $k_1=$...\n",
    "* If $q_0 < b_0/k_0$:  \n",
    "* If:\n",
    "$$\\begin{align}\n",
    "    \\max\\left(\\theta, \\mbox{ }b_0/k_0\\right)<q_0<\\theta+a \\tag{A1}\n",
    "\\end{align}$$\n",
    "\n",
    ".\n",
    "\n",
    ".\n",
    "\n",
    "Assumption $(A1)$ is assumed to hold in the following questions."
   ]
  },
  {
   "cell_type": "markdown",
   "metadata": {},
   "source": [
    "## Q2: Capital demand under assumption (A1)"
   ]
  },
  {
   "cell_type": "markdown",
   "metadata": {},
   "source": [
    "Under $(A1)$ the return to capital $>1$. What does this imply for optimal $c_0$? And for the credit constraint?\n",
    "\n",
    "\n",
    "\n",
    ".\n",
    "\n",
    ".\n",
    "\n",
    ".\n",
    "\n",
    "You should end up with the demand for capital:\n",
    "$$\\begin{align}\n",
    "k_1 &= \\dfrac{q_0k_0-b_0}{q_0-\\theta} \\\\ \n",
    " &= k_0+\\dfrac{k_0\\theta -b_0}{q_0-\\theta}.\n",
    "\\end{align}$$"
   ]
  },
  {
   "cell_type": "markdown",
   "metadata": {},
   "source": [
    "### Q3: Discuss expression for capital demand:"
   ]
  },
  {
   "cell_type": "markdown",
   "metadata": {},
   "source": [
    "Note that $q_0$ is both the price for new capital $k_1$ purchased at $t=0$ and the value of existing capital $k_0$.\n",
    "\n",
    "Comment on capital demand and how $q_0$ affects it. You may think of two channels from above as a $\\color{red}{\\text{price}}$ effect and a $\\color{blue}{\\text{wealth}}$ effect. \n"
   ]
  },
  {
   "cell_type": "markdown",
   "metadata": {},
   "source": [
    "## Q4: The financier problem and the market clearing condition for capital."
   ]
  },
  {
   "cell_type": "markdown",
   "metadata": {},
   "source": [
    "**Financier problem:**\n",
    "\n",
    "Write the introduction text as a mathematical problem. \n",
    "\n",
    "Similar setup to $E$, except that\n",
    "\n",
    "* No borrowing (endowments are large enough to finance their optimal level $k_t^F$).\n",
    "* Concave production function, not linear (and both in $t=0,1$).\n",
    "* This yields a finite optimal level of $k_t^F$.\n",
    "\n",
    "Solve for the optimal $k_1^F$.\n",
    "\n",
    "\n",
    "**Market clearing:**\n",
    "\n",
    "With a fixed supply of capital the market clearing reads:\n",
    "\n",
    "$$\\begin{align}\n",
    "    \\bar{k} = k_1^F+k_1^E.\n",
    "\\end{align}$$\n",
    "\n",
    "For convenience we will define the *residual supply curve* that entrepreneurs face, by substitution of $(k_1^F)^*$ into the market clearing condition:\n",
    "\n",
    "$$\\begin{align}\n",
    "    k_1^E = \\min\\left(\\bar{k}, \\mbox{ }\\bar{k}-(1+\\theta-q_0)\\right).\n",
    "\\end{align}$$"
   ]
  },
  {
   "cell_type": "markdown",
   "metadata": {},
   "source": [
    "## Q5: Show and depict graphically that when $b_0<\\theta k_0$ there is a unique equilibrium.\n"
   ]
  },
  {
   "cell_type": "markdown",
   "metadata": {},
   "source": [
    "## Q6: Show that when $b_0>\\theta k_0$ there can be multiple equilibria: A 'bad' and a 'good' one. Explain."
   ]
  },
  {
   "cell_type": "markdown",
   "metadata": {},
   "source": [
    "In both Q5 and Q6 it is important to keep track of different relevant ranges of the price $q_0$: \n",
    "\n",
    "* When $b_0<\\theta k_0$ is demand increasing? In which region of $q_0?$ (remember to take assumption (A1) into account).\n",
    "* Is supply increasing? What is the minimum/maximum level supply attains (on the relevant range of $q_0$)?\n",
    "\n",
    "In the figure below, you can quickly investigate how the different parameter values affect the demand and supply of capital."
   ]
  },
  {
   "cell_type": "code",
   "execution_count": 2,
   "metadata": {},
   "outputs": [
    {
     "data": {
      "application/vnd.jupyter.widget-view+json": {
       "model_id": "c796c16f22364a96a4ccb01636955f12",
       "version_major": 2,
       "version_minor": 0
      },
      "text/plain": [
       "interactive(children=(FloatSlider(value=0.5, description='$\\\\theta$', max=1.0, step=0.05), FloatSlider(value=1…"
      ]
     },
     "metadata": {},
     "output_type": "display_data"
    }
   ],
   "source": [
    "a, amin, amax = 1, 0.5, 1.5 # gives baseline value a, minimum and maximum in sliders below.\n",
    "b_0, bmin, bmax =0.6, 0.1, 1 # gives baseline value b, minimum and maximum in sliders below.\n",
    "k_0, kmin, kmax = 0.9, 0.1, 1 # gives baseline value k_0, minimum and maximum in sliders below.\n",
    "theta, thetamin, thetamax = 0.5, 0, 1 # gives baseline value theta, minimum and maximum in sliders below.\n",
    "kbar=0.9 # Fixed level of supply.\n",
    "q_0 = np.linspace(0, 2, 1000) # range of q to consider.\n",
    "kplot_max = 1 # Maximum \n",
    "func.interactive_capdemand(q_0,a,a,amin,amax,b_0,b_0,bmin,bmax,k_0,k_0,kmin,kmax,theta,theta,thetamin,thetamax,kbar,kplot_max)"
   ]
  },
  {
   "cell_type": "markdown",
   "metadata": {},
   "source": [
    "## Q7: How can an appropriate reduction in $b_0$ eliminate the bad equilibrium?"
   ]
  },
  {
   "cell_type": "markdown",
   "metadata": {},
   "source": [
    "Verify that it is the case in the figure above.\n",
    "\n",
    "What is the intuition behind this?"
   ]
  },
  {
   "cell_type": "markdown",
   "metadata": {},
   "source": [
    "## Q8: Suppose there were multiple equilibria and the government stands ready to buy assets at the good equilibrium price. How many assets would it have to buy to implement this policy?"
   ]
  },
  {
   "cell_type": "markdown",
   "metadata": {},
   "source": [
    "## Q9: Compare costs of Q7 and Q8 as policies for working in the financial crisis. Q7 interpreted as injecting capital into the banking system and Q8 as a plan to buy toxic securities with governnment money. Discuss."
   ]
  },
  {
   "cell_type": "markdown",
   "metadata": {},
   "source": [
    "# PS3, part 2: Impatient households and risky investments "
   ]
  },
  {
   "cell_type": "markdown",
   "metadata": {},
   "source": [
    "The setup is a Diamond-Dybvig (1983) type of model. Specifically:\n",
    "\n",
    "* Three periods $t=0,1,2$.\n",
    "* Two storage technologies \n",
    "    * One period tech. with return $1$.\n",
    "    * Two period tech. with return $R>1$. Can be prematurely liquidated $L<1$.\n",
    "* Continuum of agents with unit endowment. \n",
    "* A fraction $\\pi$ will be impatient, $1-\\pi$ patient. However, there is uncertainty (at time $0$) about what type the agent'll be. The expected utility is then given by:\n",
    "    $$\\begin{align}\n",
    "        u = \\pi\\sqrt{c_1}+(1-\\pi)\\rho \\sqrt{c_2}.\n",
    "    \\end{align}$$\n",
    "    At time $t=1$ when the type is known the utility is:\n",
    "    $$\\begin{align}\n",
    "       \\text{If impatient}: && u_1^{ip} &= \\sqrt{c_1} \\\\ \n",
    "       \\text{If patient}: && u_1^{p} &= \\rho\\sqrt{c_2}\n",
    "    \\end{align}$$\n",
    "     where $\\rho$ reflects standard discounting of the future.\n",
    "     \n",
    "If you are not familiar with the DD model, you may consult the brief recap in \"DD model.pdf\"."
   ]
  },
  {
   "cell_type": "markdown",
   "metadata": {},
   "source": [
    "## Q1: Characterize optimal allocation and market allocation."
   ]
  },
  {
   "cell_type": "markdown",
   "metadata": {},
   "source": [
    "We define the market allocation as in Diamond-Dybvig (1983):\n",
    "\n",
    "* At time $t=0$ households choose long run investment $I$ (and short run investment $(1-I)$). \n",
    "* At time $t=1$ they recognize their type.\n",
    "* A bond market is included as follows: \n",
    "    * Households that turns out to be patient: Use short run investment $1-I$ to purchase bonds at $t=1$, receiving $(1-I)/p$ at $t=2$.\n",
    "    * Impatient consumers receive $p$ units of income at time $t=1$, for each unit of income they repay at $t=2$. \n",
    "    * Equilibrium price $p=1/R$.\n",
    "    \n",
    "Write up the $c_1$ and $c_2$ constraints. Show that the market allocation (M) is given by:\n",
    "\n",
    "$$\\begin{align}\n",
    "    c_1^M = 1, && c_2^M = R.\n",
    "\\end{align}$$"
   ]
  },
  {
   "cell_type": "markdown",
   "metadata": {},
   "source": [
    "### Social Planner solution (optimal):\n",
    "\n"
   ]
  },
  {
   "cell_type": "markdown",
   "metadata": {},
   "source": [
    "A social planner allocates $I$ of the initial endowment to long run investments, and $1-I$ to short run investments. As the planner does not operate under uncertanity, $I$ is naturally chosen such that there is no premature liquidation of long run assets. This means that short run investments are allocated to impatient households (share $\\pi$), and return on long run investments are allocated to patient households. Show that this setup implies the planner solution:\n",
    "$$\\begin{align}\n",
    "    c_1^* = \\dfrac{1}{\\pi+(1-\\pi)\\rho^2R}, && c_2^* = \\dfrac{(\\rho R)^2}{\\pi+(1-\\pi)\\rho^2R}.\n",
    "\\end{align}$$\n",
    "\n",
    "Comment on the result. Compare to the market outcome."
   ]
  },
  {
   "cell_type": "markdown",
   "metadata": {},
   "source": [
    "## Q2, part 1: Is it possible to introduce financial intermediaries, and does this implement the optimal allocation?"
   ]
  },
  {
   "cell_type": "markdown",
   "metadata": {},
   "source": [
    "(*State-contingent contract: The outcome of the contract depends on the realization of some state (e.g. which type of agent the consumer is at $t=1$)).*\n",
    "\n",
    "Yes. If the financial intermediaries offer **state-contingent contracts** the market is said to be **complete**, in which case the uncertainty no longer entails inefficiency. Try to outline how such a contract might look like. In particular, include the fact that the contract must be **incentive compatible** and obey the **participation constraint** for the financial intermediary."
   ]
  },
  {
   "cell_type": "markdown",
   "metadata": {},
   "source": [
    "## Q2, part 2: Is it possible to have bank runs, and why are they inefficient?"
   ]
  },
  {
   "cell_type": "markdown",
   "metadata": {},
   "source": [
    "\n",
    "* Assume that a patient household expects all other households to withdraw early. What happens to this household's incentives to withdraw early/keep patient?\n",
    "* Of the patient households withdraw early, the bank has to liquidate long run investments prematurely. What is the maximum amount of income they can amass in $t=1$? Denote this $BR$.\n",
    "* Show that a bank run is an equilibrium if $BR<c_1^*$. Why?"
   ]
  },
  {
   "cell_type": "markdown",
   "metadata": {},
   "source": [
    "## Q3: Assume from now on that $\\rho R<1$. Characterize optimal and market allocation."
   ]
  },
  {
   "cell_type": "markdown",
   "metadata": {},
   "source": [
    "## Q4: Can intermediaries implement optimal allocation? Bank runs?\n",
    "\n",
    "Consider in particular:\n",
    "\n",
    "* An intermediary offering $c_1$ to households if they withdraw early and $c_2$ to households that withdraw at $t=2$. \n",
    "* what is the incentive compatibility constraint here? (how can we make sure that patients households do not withdraw early?)\n",
    "* If the contract ensures that the IC constraint holds, then exactly which households will choose to withdraw early (if we do not plan for a bank run)\n",
    "\n",
    "\n",
    "Show that in the case where $\\rho R<1$, the **constrained optimal constract** that takes the IC constraint into account offers the contract:\n",
    "\n",
    "$$\\begin{align}\n",
    " c_1 = c_2 = \\dfrac{R}{R\\pi+(1-\\pi)}\\geq 1.\n",
    "\\end{align}$$\n",
    "\n",
    "\n",
    "Discuss how the chances for bank runs have changed, compared to Q2 part 2. Explain why bank run only exists if (same as in Q2 part 2):\n",
    "\n",
    "$$\\begin{align}\n",
    "    \\pi c_1+ (1-\\pi c_1)L<c_1.\n",
    "\\end{align}$$"
   ]
  },
  {
   "cell_type": "markdown",
   "metadata": {},
   "source": [
    "## Q5: Why can commitment to a 'pre-announced suspension of convertibility' eliminate the bank run equilibrium?\n",
    "\n",
    "Interpret the 'pre-announced...' saying that it will at most pay out $x$ when $t=1$. "
   ]
  },
  {
   "cell_type": "markdown",
   "metadata": {},
   "source": [
    "## Q6: In absence of commitment, assume the CB can choose a threshold $\\pi^B\\geq \\pi$ of deposits that get paid. What is the optimal ex post policy (threshold)? does it prevent bank runs?"
   ]
  },
  {
   "cell_type": "markdown",
   "metadata": {},
   "source": [
    "This is a complicated one. Try to re-visit it after the exercise class, and see if you agree with the solution in \"PS3.ipynb\"."
   ]
  }
 ],
 "metadata": {
  "kernelspec": {
   "display_name": "Python 3",
   "language": "python",
   "name": "python3"
  },
  "language_info": {
   "codemirror_mode": {
    "name": "ipython",
    "version": 3
   },
   "file_extension": ".py",
   "mimetype": "text/x-python",
   "name": "python",
   "nbconvert_exporter": "python",
   "pygments_lexer": "ipython3",
   "version": "3.7.3"
  }
 },
 "nbformat": 4,
 "nbformat_minor": 4
}
