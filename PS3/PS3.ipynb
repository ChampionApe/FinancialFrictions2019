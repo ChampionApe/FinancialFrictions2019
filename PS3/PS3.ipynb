{
 "cells": [
  {
   "cell_type": "code",
   "execution_count": 2,
   "metadata": {},
   "outputs": [],
   "source": [
    "import numpy as np\n",
    "import math\n",
    "from scipy import optimize\n",
    "import numba as nb\n",
    "import scipy.stats as stats\n",
    "\n",
    "import ps3_functions as func\n",
    "\n",
    "# For plots:\n",
    "import matplotlib as mpl\n",
    "import matplotlib.pyplot as plt\n",
    "%matplotlib inline\n",
    "plt.style.use('seaborn-whitegrid')\n",
    "mpl.style.use('seaborn')\n",
    "prop_cycle = plt.rcParams[\"axes.prop_cycle\"]\n",
    "colors = prop_cycle.by_key()[\"color\"]\n",
    "import ipywidgets as widgets\n",
    "from ipywidgets import interact, interact_manual"
   ]
  },
  {
   "cell_type": "markdown",
   "metadata": {},
   "source": [
    "# PS3, part 1: Fire sales and multiple equilibria"
   ]
  },
  {
   "cell_type": "markdown",
   "metadata": {},
   "source": [
    "The setup for part 1:\n",
    "\n",
    "* Two period economy, $t=0,1$.\n",
    "* Single consumption good, $(c)$.\n",
    "* Continuum of entrepreneurs (E) and financiers (F).\n",
    "* Fixed amount of capital $(\\bar{k})$.\n",
    "* Let $(q_t)$ denote the price of capital. Assume $q_1=\\theta$ be the fixed liquidation price of capital (end of period 1). \n",
    "* **Entrepreneurs:**\n",
    "    * Risk-neutral, i.e. $u_E = c_0^e+c_1^e$.\n",
    "    * At start-of-period $t=0$, $E$ has $b_0$ debt and $k^E_0$ capital. \n",
    "    * Invests in capital for $t=1$ ($k_1^E$).\n",
    "    * Due to a *temporary shock to cash flows* entrepreneurs do not receive any return on $k_0^E$. \n",
    "    * In $t=1$ they apply a linear production technology i.e.\n",
    "        $$\\begin{align}\n",
    "        f(k_1^E) = a k_1^E.\n",
    "        \\end{align}$$\n",
    "    * At $t=0$ the entrepreneur either (1) repays his debt (if $b_0\\leq q_0k_0)$) or (2) renegotiates the level of debt down to $q_0k_0$.\n",
    "    * Faces a credit constraint of the *collateralized assets* type for period $t=1$: $b_1\\leq \\theta k_1$.\n",
    "* **Financiers:**\n",
    "    * Risk-neutral, i.e. $u_F = c_0^F+c_1^F$.\n",
    "    * At the start of period $t=0$, F has capital $k^F_0$ (no debt). \n",
    "    * Has *large* endowments of the consumption good, of size $(e_0,e_1)$ (we will come back to what *large* refers to).\n",
    "    * Applies production technology using capital $(k_t^F)$ following \n",
    "    $$\\begin{align}\n",
    "    G(k_t^F) = k_t^F-\\dfrac{1}{2}\\left(k_t^F\\right)^2.\n",
    "    \\end{align}$$\n",
    "    \n",
    "    \n",
    "Before we proceed to the questions, we note that:\n",
    "\n",
    "* **Efficient allocation** of capital is defined as the level equalizes marginal product of capital across sectors, i.e. \n",
    "    $$\\begin{align}\n",
    "        G'(k^F_1) = 1-k_1^F = a = f'(k_1^E)\n",
    "    \\end{align}$$\n",
    "    In other words: \n",
    "    $$\\begin{align}\n",
    "    k_F^* = 1-a, && k_E^* = \\bar{k}+a-1\n",
    "    \\end{align}$$\n",
    "\n",
    "* This might not be the equilibrium, because of the financial frictions in place (credit-constraint due to e.g. moral hazard)."
   ]
  },
  {
   "cell_type": "markdown",
   "metadata": {},
   "source": [
    "## Q1: Optimization of entrepreneurs"
   ]
  },
  {
   "cell_type": "markdown",
   "metadata": {},
   "source": [
    "First task is to translate the information above on E to a maximization problem (here we simply use $k_1$ to refer to $k_1^E$)\n",
    "\n",
    "$$\\begin{align}\n",
    "\\max_{c_0,c_1,k_1,b_1}\\mbox{ }c_0+c_1\\mbox{ }\\mbox{ }\\mbox{ }\\mbox{ }&  \\\\ \n",
    "    \\text{s.t. }\\color{blue}{c_0+q_0k_1} &= \\color{red}{\\max\\left\\lbrace 0,\\mbox{ }q_0k_0-b_0\\right\\rbrace +b_1} \\\\ \n",
    "    \\color{blue}{c_1+b_1} &= \\color{red}{(\\theta+a)k_1} \\\\ \n",
    "    b_1&\\leq \\theta k_1\n",
    "\\end{align}$$\n",
    "\n",
    "These states that:\n",
    "\n",
    "1. Maximize consumption (risk-neutral),\n",
    "2. At time $0$: $\\color{blue}{\\text{Expenditures}}$ equals $\\color{red}{\\text{wealth}}$. The max-operator states that (as explained in the introduction) if $b_0>q_0k_0$ E cannot repay his debt (without access to new credit $b_1$). In this case the level of debt is renegotiated. In this case the max-operator returns $0$.\n",
    "3. At time $1$: $\\color{blue}{\\text{Expenditures}}$ equals available $\\color{red}{\\text{wealth/income}}$. $\\color{red}{\\text{Wealth}}$ consists of income from liquidation of capital $\\theta k_1$ and the production $k_1a$.\n",
    "4. Collateral constraint on borrowing."
   ]
  },
  {
   "cell_type": "markdown",
   "metadata": {},
   "source": [
    "#### Characterize E's demand for capital"
   ]
  },
  {
   "cell_type": "markdown",
   "metadata": {},
   "source": [
    "Note that problem is linear in $k_1$. Thus we have corner solutions in general:\n",
    "\n",
    "* If $q_0\\leq \\theta$: $E$ chooses $k_1=\\infty$ (arbitrage from higher future capital prices).\n",
    "* If $q_0\\geq \\theta+a$: $E$ chooses $k_1=0$.\n",
    "* If $q_0 < b_0/k_0$: $E$ defaults on debt. \n",
    "* If:\n",
    "$$\\begin{align}\n",
    "    \\max\\left(\\theta, \\mbox{ }b_0/k_0\\right)<q_0<\\theta+a \\tag{A1}\n",
    "\\end{align}$$\n",
    "We thus have (1) No default on debt, (2) $E$ prefers to increase $k$ infinitely, **but** due to credit-constraint demand is finite.\n",
    "\n",
    "Assumption $(A1)$ is assumed to hold in the following questions."
   ]
  },
  {
   "cell_type": "markdown",
   "metadata": {},
   "source": [
    "## Q2: Capital demand under assumption (A1)"
   ]
  },
  {
   "cell_type": "markdown",
   "metadata": {},
   "source": [
    "Under $(A1)$ the return to capital $>1$. Thus $(E)$ prefers to maximize investments, thus choosing $c_0=0$:\n",
    "\n",
    "$$\\begin{align}\n",
    "    b_1^* = q_0k_1-\\max\\left(0,\\mbox{ }q_0k_0-b_0\\right)\n",
    "\\end{align}$$\n",
    "\n",
    "Using $(A1)$ (no default) and that the credit constraint is binding we have:\n",
    "\n",
    "$$\\begin{align}\n",
    "    k_1 = \\dfrac{b_1}{\\theta} = \\dfrac{q_0k_1-q_0k_0+b_0}{\\theta} && \\Rightarrow && k_1 = \\dfrac{q_0k_0-b_0}{q_0-\\theta}.\n",
    "\\end{align}$$"
   ]
  },
  {
   "cell_type": "markdown",
   "metadata": {},
   "source": [
    "### Q3: Discuss expression for capital demand:"
   ]
  },
  {
   "cell_type": "markdown",
   "metadata": {},
   "source": [
    "Rewrite slightly:\n",
    "\n",
    "$$\\begin{align}\n",
    "    k_1 = k_0+\\dfrac{k_0\\theta -b_0}{q_0-\\theta}.\n",
    "\\end{align}$$\n",
    "\n",
    "Note:\n",
    "\n",
    "$$\\begin{align}\n",
    "    \\dfrac{\\partial k_1}{\\partial q_0} = \\dfrac{k_0\\theta-b_0}{(q_0-\\theta)^2} = \\dfrac{k_1-k_0}{q_0-\\theta},\n",
    "\\end{align}$$\n",
    "where the second equality comes from using the expression for $k_1$ above again.\n",
    "\n",
    "The effect from $q_0$ is:\n",
    "\n",
    "* $\\color{red}{\\text{Price effect:}}$ $q_0\\uparrow$ price on $k_1\\uparrow$ and demand for $k_1\\downarrow$.\n",
    "* $\\color{blue}{\\text{Wealth effect:}}$ $q_0\\uparrow$ value of endowment $q_0k_0\\uparrow$ and demand for $k_1\\uparrow$.\n",
    "\n",
    "The size of $\\color{red}{k_1}$ determines the size of the $\\color{red}{\\text{price effect}}$, while the size of $\\color{blue}{k_0}$ determines the size of the $\\color{blue}{\\text{wealth effect}}$."
   ]
  },
  {
   "cell_type": "markdown",
   "metadata": {},
   "source": [
    "## Q4: The financier problem and the market clearing condition for capital."
   ]
  },
  {
   "cell_type": "markdown",
   "metadata": {},
   "source": [
    "**Financier problem:**\n",
    "\n",
    "Writing the introduction text as a mathematical problem:\n",
    "\n",
    "$$\\begin{align}\n",
    "    \\max_{c_0^F,c_1^F,k_1^F}\\mbox{ }&c_0^F+c_1^F  \\\\ \n",
    "    \\text{s.t. }&c_0^F+q_0k_1^F = k_0^F-\\dfrac{1}{2}(k_0^F)^2+q_0k_0^F+e_0 \\\\ \n",
    "    & c_1^F = k_1^F-\\dfrac{1}{2}(k_1^F)^2+\\theta k_1^F+e_1\n",
    "\\end{align}$$\n",
    "\n",
    "Similar setup to $E$, except that\n",
    "\n",
    "* No borrowing (endowments are large enough to finance their optimal level $k_t^F$).\n",
    "* Concave production function, not linear (and both in $t=0,1$).\n",
    "* This yields a finite optimal level of $k_t^F$. Note that by saying that $e_0,e_1$ (endowment of capital) are sufficiently large, the interior solution for $k_t^F$ still ensures that $c_t^F>0$. \n",
    "\n",
    "The solution here is straightforward (recall that $k_0^F$ is predetermined, not chosen):\n",
    "\n",
    "$$\\begin{align}\n",
    "    \\max_{k_1^F} k_1^F(1+\\theta-q_0)-\\dfrac{1}{2}k_1^F+constants\n",
    "\\end{align}$$\n",
    "\n",
    "$F$ then chooses \n",
    "\n",
    "$$\\begin{align}\n",
    "    (k_1^F)^* = \\max\\left(0, \\mbox{ }1+\\theta-q_0\\right).\n",
    "\\end{align}$$\n",
    "\n",
    "**Market clearing:**\n",
    "\n",
    "With a fixed supply of capital the market clearing reads:\n",
    "\n",
    "$$\\begin{align}\n",
    "    \\bar{k} = k_1^F+k_1^E.\n",
    "\\end{align}$$\n",
    "\n",
    "For convenience we will define the *residual supply curve* that entrepreneurs face, by substitution of $(k_1^F)^*$ into the market clearing condition:\n",
    "\n",
    "$$\\begin{align}\n",
    "    k_1^E = \\min\\left(\\bar{k}, \\mbox{ }\\bar{k}-(1+\\theta-q_0)\\right).\n",
    "\\end{align}$$"
   ]
  },
  {
   "cell_type": "markdown",
   "metadata": {},
   "source": [
    "## Q5: Show and depict graphically that when $b_0<\\theta k_0$ there is a unique equilibrium."
   ]
  },
  {
   "cell_type": "markdown",
   "metadata": {},
   "source": [
    "When $b_0<\\theta k_0$:\n",
    "\n",
    "* **Supply:** Around $q_0=0$ the (residual) supply enters through\n",
    "    $$\\begin{align}\n",
    "    \\min\\left(\\bar{k}, \\bar{k}-(1+\\theta-q_0)\\right) = \\bar{k}-1-\\theta\n",
    "    \\end{align}$$\n",
    "    Supply then increases linearly untill constant at $\\bar{k}$. This occurs when: \n",
    "    \n",
    "    $$\\begin{align}\n",
    "    \\bar{q}_0 = 1+\\theta.\n",
    "    \\end{align}$$\n",
    "    \n",
    "* **Demand:** When $k_0\\theta-b_0>0$ recall that \n",
    "    \n",
    "    $$\\begin{align}\n",
    "        k_1=k_0+\\dfrac{k_0\\theta-b_0}{q_0-\\theta}.\n",
    "    \\end{align}$$\n",
    "    \n",
    "    Thus demand is **decreasing** in $q_0$ in this case. Note, however, from assumption $(A1)$ that demand only follows this form when $q_0\\in(\\theta, \\theta+a)$.\n",
    "    \n",
    "    \n",
    "\n",
    "On the relevant interval, $q_0\\in(\\theta, \\theta+a)$ supply is linearly increasing on the range:\n",
    "\n",
    "$$\\begin{align}\n",
    "    k^{rs} \\in \\left[\\bar{k}-1,\\mbox{ }\\min\\left(\\bar{k},\\mbox{ }\\bar{k}-1+a\\right)\\right].\n",
    "\\end{align}$$\n",
    "\n",
    "Demand is on this interval defined on the range:\n",
    "\n",
    "$$\\begin{align}\n",
    "    k_1 \\in \\Bigg(k_0+\\dfrac{\\theta-b_0}{a},\\mbox{ }\\infty \\Bigg)\n",
    "\\end{align}$$\n",
    "   "
   ]
  },
  {
   "cell_type": "markdown",
   "metadata": {},
   "source": [
    "## Q6: Show that when $b_0>\\theta k_0$ there can be multiple equilibria: A 'bad' and a 'good' one. Explain."
   ]
  },
  {
   "cell_type": "markdown",
   "metadata": {},
   "source": [
    "* **Relevant interval of $q_0$ to consider:** $q_0\\in(b_0/k_0, a+\\theta)$.\n",
    "* **Supply** increases linearly (potential kink when it reaches $\\bar{k}$).\n",
    "* **Demand** is now increasing as well in this region. In particular:\n",
    "    $$\\begin{align}\n",
    "        \\text{For }q_0\\in(b_0/k_0,a+\\theta): && k_1\\in\\left(0,\\mbox{ }\\dfrac{b_0-k_0\\theta}{a}\\right)\n",
    "    \\end{align}$$\n",
    "    where the two limits are found by imposing $q_0=b_0/k_0$ and $q_0=\\theta+a$ in the demand function.\n",
    "\n",
    "Let us illustrate this."
   ]
  },
  {
   "cell_type": "code",
   "execution_count": 3,
   "metadata": {},
   "outputs": [
    {
     "data": {
      "application/vnd.jupyter.widget-view+json": {
       "model_id": "37fc5eef21ff4a96912b4b0b40f3a371",
       "version_major": 2,
       "version_minor": 0
      },
      "text/plain": [
       "interactive(children=(FloatSlider(value=0.5, description='$\\\\theta$', max=1.0, step=0.05), FloatSlider(value=1…"
      ]
     },
     "metadata": {},
     "output_type": "display_data"
    }
   ],
   "source": [
    "a, amin, amax = 1, 0.5, 1.5 # gives baseline value a, minimum and maximum in sliders below.\n",
    "b_0, bmin, bmax =0.6, 0.1, 1 # gives baseline value b, minimum and maximum in sliders below.\n",
    "k_0, kmin, kmax = 0.9, 0.1, 1 # gives baseline value k_0, minimum and maximum in sliders below.\n",
    "theta, thetamin, thetamax = 0.5, 0, 1 # gives baseline value theta, minimum and maximum in sliders below.\n",
    "kbar=0.9 # Fixed level of supply.\n",
    "q_0 = np.linspace(0, 2, 1000) # range of q to consider.\n",
    "kplot_max = 1 # Maximum \n",
    "func.interactive_capdemand(q_0,a,a,amin,amax,b_0,b_0,bmin,bmax,k_0,k_0,kmin,kmax,theta,theta,thetamin,thetamax,kbar,kplot_max)"
   ]
  },
  {
   "cell_type": "markdown",
   "metadata": {},
   "source": [
    "Note that with the parameter values (chosen as baseline above) there are 3 potential equilibria. However, one of them is not *stable* (medium level $k$).\n",
    "\n",
    "The low equilibrium is given by $(k_1,q_0)=(0,\\mbox{ }0.6)$. If capital prices are this low $E$ default on this debt, and thus demands no capital. At higher prices $E$ does not default on his debt. Furthermore, as $k_0>k_1$ in this range demand is increasing in $q_0$ (the 'wealth' effect from Q3 dominates). "
   ]
  },
  {
   "cell_type": "markdown",
   "metadata": {},
   "source": [
    "## Q7: How can an appropriate reduction in $b_0$ eliminate the bad equilibrium?"
   ]
  },
  {
   "cell_type": "markdown",
   "metadata": {},
   "source": [
    "Verify that it is the case in the figure above. Intuition:\n",
    "\n",
    "* Reductio in $b_0$ increases demand for capital (for $E$),\n",
    "* this increases wealth and thus relaxes borrowing constraint.\n",
    "* This removes the bad equilibrium (and the unstable intermediate one)."
   ]
  },
  {
   "cell_type": "markdown",
   "metadata": {},
   "source": [
    "## Q8: Suppose there were multiple equilibria and the government stands ready to buy assets at the good equilibrium price. How many assets would it have to buy to implement this policy?"
   ]
  },
  {
   "cell_type": "markdown",
   "metadata": {},
   "source": [
    "It depends on the credibility of the policy, and if it is expected/public:\n",
    "\n",
    "* The good price is a sulf-sustainable equilibrium. \n",
    "* If the announcement of the policy to buy assets at that price, there is no need to actually buy any assets. \n"
   ]
  },
  {
   "cell_type": "markdown",
   "metadata": {},
   "source": [
    "## Q9: Compare costs of Q7 and Q8 as policies for working in the financial crisis. Q7 interpreted as injecting capital into the banking system and Q8 as a plan to buy toxic securities with governnment money. Discuss."
   ]
  },
  {
   "cell_type": "markdown",
   "metadata": {},
   "source": [
    "More of an essay question. Some brief notes on the question:\n",
    "\n",
    "* **Model evaluation:** Asset purchase is free (Q8), capital injection (Q7) is costly. \n",
    "* **Why is it free in our model?** In our model assets are not really toxic; it's all a matter of signalling the right price. In the financial crisis this was probably not the case. Furthermore, there is no adjustment costs of going from one to the other equilibrium (no price or information frictions).\n",
    "* **Adverse selection:** If the government buys up assets that are of varying degree of toxicity, they'll end up buying the most toxic ones. \n",
    "* **Moral hazard:** Both strategies may induce unhealthy risk-taking."
   ]
  },
  {
   "cell_type": "markdown",
   "metadata": {},
   "source": [
    "# PS3, part 2: Impatient households and risky investments "
   ]
  },
  {
   "cell_type": "markdown",
   "metadata": {},
   "source": [
    "The setup is a Diamond-Dybvig (1983) type of model. Specifically:\n",
    "\n",
    "* Three periods $t=0,1,2$.\n",
    "* Two storage technologies \n",
    "    * One period tech. with return $1$.\n",
    "    * Two period tech. with return $R>1$. Can be prematurely liquidated $L<1$.\n",
    "* Continuum of agents with unit endowment. \n",
    "* A fraction $\\pi$ will be impatient, $1-\\pi$ patient. However, there is uncertainty (at time $0$) about what type the agent'll be. The expected utility is then given by:\n",
    "    $$\\begin{align}\n",
    "        u = \\pi\\sqrt{c_1}+(1-\\pi)\\rho \\sqrt{c_2}.\n",
    "    \\end{align}$$\n",
    "    At time $t=1$ when the type is known the utility is:\n",
    "    $$\\begin{align}\n",
    "       \\text{If impatient}: && u_1^{ip} &= \\sqrt{c_1} \\\\ \n",
    "       \\text{If patient}: && u_1^{p} &= \\rho\\sqrt{c_2}\n",
    "    \\end{align}$$\n",
    "     where $\\rho$ reflects standard discounting of the future."
   ]
  },
  {
   "cell_type": "markdown",
   "metadata": {},
   "source": [
    "## Q1: Characterize optimal allocation and market allocation."
   ]
  },
  {
   "cell_type": "markdown",
   "metadata": {},
   "source": [
    "We define the market allocation as in Diamond-Dybvig (1983):\n",
    "\n",
    "* At time $t=0$ households choose long run investment $I$ (and short run investment $(1-I)$). \n",
    "* At time $t=1$ they recognize their type.\n",
    "* A bond market is included as follows: \n",
    "    * Households that turns out to be patient: Use short run investment $1-I$ to purchase bonds at $t=1$, receiving $(1-I)/p$ at $t=2$.\n",
    "    * Impatient consumers receive $p$ units of income at time $t=1$, for each unit of income they repay at $t=2$. \n",
    "    * Equilibrium price: $p = 1/R$.\n",
    "\n",
    "Using the information above the market outcome is given by:\n",
    "\n",
    "$$\\begin{align}\n",
    "    c_1 &= \\color{blue}{1-I}+\\color{red}{pRI} \\\\ \n",
    "    c_2 &= \\color{blue}{RI}+\\color{red}{\\dfrac{1-I}{p}} \n",
    "\\end{align}$$\n",
    "\n",
    "* Impatient households receive their $\\color{blue}{\\text{short run investment}}$, and $\\color{red}{\\text{borrow against future income}}$ (by uss.\n",
    "* Patient households receive return on $\\color{blue}{\\text{long run investment}}$, and receives the $\\color{red}{\\text{return on bonds}}$ from impatient households.\n",
    "\n",
    "Imposing the equilibrium price $p=1/R$ this yields the market allocation (M):\n",
    "\n",
    "$$\\begin{align}\n",
    "    c_1^M = 1, && c_2^M = R.\n",
    "\\end{align}$$\n",
    "\n",
    "**Question:** In which step did we take care of the *utility-maximization* of the two types of households, and how?"
   ]
  },
  {
   "cell_type": "markdown",
   "metadata": {},
   "source": [
    "### Social Planner solution (optimal):\n",
    "\n"
   ]
  },
  {
   "cell_type": "markdown",
   "metadata": {},
   "source": [
    "A social planner allocates $I$ of the initial endowment to long run investments, and $1-I$ to short run investments. As the planner does not operate under uncertanity, $I$ is naturally chosen such that there is no premature liquidation of long run assets. This means that short run investments are allocated to impatient households (share $\\pi$), and return on long run investments are allocated to patient households:\n",
    "\n",
    "$$\\begin{align}\n",
    "    \\pi c_1 = 1-I, && (1-\\pi)c_2 = RI.\n",
    "\\end{align}$$\n",
    "\n",
    "Combining the two the planner (assume utilitarian here) solves:\n",
    "\n",
    "$$\\begin{align}\n",
    "    \\max_{c_1,c_2}\\mbox{ }\\pi \\sqrt{c_1} +(1-\\pi)\\rho\\sqrt{c_2} && \\text{s.t. }\\pi c_1 +(1-\\pi)\\dfrac{c_2}{R} = 1\n",
    "\\end{align}$$\n",
    "\n",
    "Thus the planner ensures that\n",
    "\n",
    "$$\\begin{align}\n",
    "    (\\rho R)^2c_1^* = c_2^*.\n",
    "\\end{align}$$\n",
    "\n",
    "Using the planner's constraint we can rewrite this as \n",
    "\n",
    "$$\\begin{align}\n",
    "    c_1^* = \\dfrac{1}{\\pi+(1-\\pi)\\rho^2R}, && c_2^* = \\dfrac{(\\rho R)^2}{\\pi+(1-\\pi)\\rho^2R}.\n",
    "\\end{align}$$\n",
    "\n",
    "The result is relatively straightforward here: If $(\\rho R>1)$ the return on investments $(R)$ is larger than the degree of impatience $(\\rho)$. In this case $c_2^*>c_1^*$ is optimal. \n",
    "\n",
    "Comparing the efficient $(c_t^*)$ with the market allocation $(c_t^M)$ when we assume $(\\rho R>1)$:\n",
    "\n",
    "* **Same relative size:** Note that $c_2>c_1$ in both scenarios. \n",
    "* **Generally not the same:** The two coincides exactly when $R=1/\\rho^2$.\n",
    "* If $R\\rho^2>1$ then we have $c_2^*>c_2^M$ and $c_1^*<c_1^M$, i.e. underinvestments in the market allocation. "
   ]
  },
  {
   "cell_type": "markdown",
   "metadata": {},
   "source": [
    "## Q2, part 1: Is it possible to introduce financial intermediaries, and does this implement the optimal allocation?"
   ]
  },
  {
   "cell_type": "markdown",
   "metadata": {},
   "source": [
    "(*State-contingent contract: The outcome of the contract depends on the realization of some state (e.g. which type of agent the consumer is at $t=1$)).*\n",
    "\n",
    "Yes. If the financial intermediaries offer **state-contingent contracts** the market is said to be **complete**, in which case the uncertainty no longer entails inefficiency. Consider the following very simple **first-best** state-contingent contract:\n",
    "\n",
    "* An intermediary offer $c_1^*$ if you withdraw money at $t=1$, $c_2^*$ if you withdraw at $t=2$.\n",
    "* This maximizes the expected utility (as it is the optimal outcome), thus the consumers enter this contract with all their endowment at $t=0$.\n",
    "* The contract is **incentive compatible:** The two types have no incentive to lie and declare to be of the other type.\n",
    "* The contract obeys **participation constraint:** The financial intermediary has non-negative profits from offering this contract.\n",
    "\n",
    "**Question: The incentive compatibility depends crucially on $c_2^*>c_1^*$. Why?**\n"
   ]
  },
  {
   "cell_type": "markdown",
   "metadata": {},
   "source": [
    "## Q2, part 2: Is it possible to have bank runs, and why are they inefficient?"
   ]
  },
  {
   "cell_type": "markdown",
   "metadata": {},
   "source": [
    "Assume that a patient household expects all other households to withdraw early. If this expectation implies that the bank cannot finance the early withdrawals, the patient household has an incentive to withdraw early as well. If enough households have these expectations $\\Rightarrow$ bank run.\n",
    "\n",
    "**In our model:**\n",
    "\n",
    "Recall that the bank invests $\\pi c_1^*$ in short run technology and $1-\\pi c_1^*$ in the long-run technology. If I expect all to withdraw early, the bank can liquidate its long run assets and get the return (recall liquidation of long run assets prematurely yields return $L$):\n",
    "\n",
    "$$\\begin{align}\n",
    " BR =  \\pi c_1^* +(1-\\pi c_1^*)L.\n",
    "\\end{align}$$\n",
    "\n",
    "The bank run is thus a potential outcome if $BR<c_1^*$. Using the expression for $c_1^*$ derived earlier, this is the case when:\n",
    "\n",
    "$$\\begin{align}\n",
    "    BR <c_1^* && \\Rightarrow && L\\rho^2 R<1.\n",
    "\\end{align}$$\n",
    "\n",
    "This is obviously **inefficient** as the early liquidation of assets yield a return of $L<1$, where the alternative short-run technology yields a return of $1$. We say that the **run-equilibrium is pareto dominated** (more on this later).\n"
   ]
  },
  {
   "cell_type": "markdown",
   "metadata": {},
   "source": [
    "## Q3: Assume from now on that $\\rho R<1$. Characterize optimal and market allocation."
   ]
  },
  {
   "cell_type": "markdown",
   "metadata": {},
   "source": [
    "The formulas from Q1 are still valid. Now note that:\n",
    "\n",
    "* $c_1^*>c_1^M$ and $c_2^*<c_2^M$: The market allocation over-invests compared to optimal allocation.\n",
    "* Long-run investment is not 'worth it', discount-factor $(\\rho)$ more than offsets productivity $(R)$ $\\Rightarrow$ push consumption towards $t=1$.\n",
    "\n",
    "\n",
    "**Question: Note that $c_1^*>c_1^M$ and $c_2^*<c_2^M$ depends on $(\\rho^2 R)<1$ and not $(\\rho R)<1$. Why?** (Hint: recall that utility from $t=0$ is concave)."
   ]
  },
  {
   "cell_type": "markdown",
   "metadata": {},
   "source": [
    "## Q4: Can intermediaries implement optimal allocation? Bank runs?"
   ]
  },
  {
   "cell_type": "markdown",
   "metadata": {},
   "source": [
    "In Q2 the answer was quite simply yes. Here let us consider a more formalized answer. \n",
    "\n",
    "Consider the **constrained optimal contract problem**, of offering $c_1$ to households that withdraw at $t=1$ and $c_2$ to households that withdraw at $t=2$:\n",
    "\n",
    "$$\\begin{align}\n",
    "    \\max_{c_1,c_2}\\mbox{ } \\pi \\sqrt{c_1} +(1-\\pi)\\rho\\sqrt{c_2}& \\\\\n",
    "    \\text{s.t. } \\pi c_1+(1-\\pi c_1)\\dfrac{c_2}{R}&=1 \\\\ \n",
    "    c_2&\\geq c_1\n",
    "\\end{align}$$\n",
    "\n",
    "This states that:\n",
    "\n",
    "* Maximize expected utility, subject to\n",
    "* the budget constraint from investing the unit endowment in short-run and long-run technologies (see planner solution for more on this constraint),\n",
    "* and the **incentive compatibility constraint (IC)**. If the contract offers $c_2<c_1$, the patient consumer will withdraw at $t=1$, invest $c_1$ in the short run technology with return $1$ and receive $c_1$ at time $t=2$.\n",
    "\n",
    "When $(\\rho R<1)$ the unconstrained solution is not feasible, as it involves $c_1^*>c_2^*$. Thus the constrained optimal solution is given by the (IC) constraint. Imposing $c_1=c_2$ in the budget we have:\n",
    "\n",
    "$$\\begin{align}\n",
    "c = \\dfrac{R}{R\\pi+(1-\\pi)}\\geq 1.\n",
    "\\end{align}$$\n",
    "\n",
    "Now, is it possible to have **bank runs**? Yes. The requirement and the intuition is the same as in Q2:\n",
    "\n",
    "$$\\begin{align}\n",
    "    \\pi c_1+ (1-\\pi c_1)L<c_1 && \\Rightarrow && R>L, && \\text{when }\\rho R<1.\n",
    "\\end{align}$$\n",
    "\n",
    "Note that the requirement $R>L$ always holds, thus the run-equilibrium is possible. It is not, however, the only equilibrium.\n"
   ]
  },
  {
   "cell_type": "markdown",
   "metadata": {},
   "source": [
    "## Q5: Why can commitment to a 'pre-announced suspension of convertibility' eliminate the bank run equilibrium?"
   ]
  },
  {
   "cell_type": "markdown",
   "metadata": {},
   "source": [
    "A few brief comments on this:\n",
    "\n",
    "* Equilibria are **strategic:** Only optimal to withdraw early **if** other households do this as well. \n",
    "* **Pareto-dominated equilibrium**: All households are better off in non-withdraw equilibrium. \n",
    "* To avoid bank run equilibrium, send a signal that the early withdrawal cannot occur.\n",
    "\n",
    "If the bank announces that only $\\pi c_1^*$ can be paid out, impatient households can withdraw early, but the bank run is no longer expected by patient households, i.e. they will choose not to withdraw early."
   ]
  },
  {
   "cell_type": "markdown",
   "metadata": {},
   "source": [
    "## Q6: In absence of commitment, assume the CB can choose a threshold $\\pi^B\\geq \\pi$ of deposits that get paid. What is the optimal ex post policy (threshold)? does it prevent bank runs?"
   ]
  },
  {
   "cell_type": "markdown",
   "metadata": {},
   "source": [
    "Before we answer the question let's review the terms:\n",
    "\n",
    "* *Ex ante* optimal policy: Implement policy from Q5, announce that at $t=1$ payments are stopped at $\\pi c$.\n",
    "* Assume that at time $t=1$, the bank observes $\\pi c$ in withdrawals **and** that demand for early withdrawals is still present. This is a signal that (at least partially) a bank run has occurred.\n",
    "* If the bank can choose a new level $\\pi^s\\geq \\pi$, what is the optimal choice then? We denote this the *ex post* policy.\n",
    "* Note that if the bank chooses to increase $\\pi^S$ from the level $\\pi$, it has to liquidate some long term investments prematurely. This means that it can no longer afford to pay the promised amount of consumption at $t=2$. \n",
    "\n",
    "Note that this uncertainty creates a quite complicated setup. There are now $4$ types of agents at $t=1$: Impatient/patient, already withdrawn/not withdrawn.\n",
    "\n",
    "* Denote the share of impatient households that have already withdrawn $\\phi_1(\\pi^S)$. \n",
    "* Define the share of impatient households withdrawing early when increasing $\\pi^S$ above the initial threshold $\\pi$ as $\\phi_2(\\pi^S)$.\n",
    "* Define impatient share of households that has not withdrawn yet $\\pi_3(\\pi^S)$.\n",
    "* Implicit assumption: If $\\pi^S=1$ all agents withdraw (everyone expect bank run to occur).\n",
    "* Assumption: $\\phi_1,\\phi_2,\\phi_3$ are constants.\n",
    "\n",
    "*Consistency* then requires that (note the two consistency requirements only constitutes one identifying restriction, see \"PS3slides\" appendix for more):\n",
    "\n",
    "$$\\begin{align}\n",
    "    \\pi \\phi_1+(\\pi^S-\\pi)\\phi_2+(1-\\pi^S)\\phi_3 &= \\pi \\\\ \n",
    "    \\pi (1-\\phi_1)+(\\pi^S-pi)(1-\\phi_2)+(1-\\pi^S)(1-\\phi_3) &= 1-\\pi\n",
    "\\end{align}$$\n",
    "\n",
    "The first line here states that there is a total of $\\pi$ impatient households. These consists of:\n",
    "* $\\phi_1\\pi$ of them have already withdrawn at $\\pi^S=\\pi$. \n",
    "* When $\\pi^S$ increases the impatient households $(\\pi^S-\\pi)\\phi_2$ withdraw as well.\n",
    "* Finally, of the last $1-\\pi^S$ households that have not yet withdrawn, $\\phi_3$ percent of them are impatient houesholds.\n",
    "\n",
    "Second line states a similar story for the patient households. \n",
    "\n",
    "Before we proceed to the solution, we assume for simplicity that $\\phi_1=\\phi_2=\\phi_3=\\pi$ **and** that $\\rho=1$ (this is the setup used in Ennis and Keister (2009))."
   ]
  },
  {
   "cell_type": "markdown",
   "metadata": {},
   "source": [
    "**The objective function** for the bank is then \n",
    "\n",
    "$$\\begin{align}\n",
    "    \\max\\mbox{ }\\pi^S\\sqrt{c}+(1-\\pi^S)(1-\\pi)\\sqrt{c_2^S\\left(\\pi^S\\right)}, \n",
    "\\end{align}$$\n",
    "\n",
    "where $c_2^S(\\pi^S)$ denotes the consumption left at time $t=2$ for the patient households. We define this level from the zero-profit condition for the banks:\n",
    "\n",
    "* **Bank expenditures:** \n",
    "    * When $t=1$ the bank pays out $E_1 = \\pi c+ \\color{blue}{(\\pi^S-\\pi)c}$.\n",
    "    * When $t=2$ the bank pays out $E_2 = (1-\\pi^S)(1-\\pi)c_2^S(\\pi^S)$.\n",
    "    * It is implicitly assumed at $t=2$ that only the patient households receive any payouts in $t=2$. (recall that consumption $c_2$ did not enter the utility function for impatient households)\n",
    "\n",
    "* **Bank income:** \n",
    "    * When $t=1$: $I_1= \\pi c + \\color{blue}{\\theta(1-\\pi c)L}$.\n",
    "    * When $t=2$: $I_2= (1-\\theta)(1-\\pi c)R$.\n",
    "    * To finance the unexpected early withdrawals, the bank liquidates the share $\\theta$ of long run investments. \n",
    "\n",
    "Finally, in order to characterize the residual payout $c_2^S(\\pi^S)$, we need to determine $\\theta$. We do this in a couple of steps. \n",
    "\n",
    "Impose $I_1=E_1$ and isolate $\\theta$:\n",
    "\n",
    "$$\\begin{align}\n",
    "    \\theta = \\dfrac{\\pi^S-\\pi}{1-\\pi c}\\dfrac{c}{L}.\n",
    "\\end{align}$$\n",
    "\n",
    "Use this in $I_2=E_2$:\n",
    "\n",
    "$$\\begin{align}\n",
    "    c_2^s(\\pi^S) = \\dfrac{(1-\\pi c)R-(\\pi^S-\\pi)c\\frac{R}{L}}{(1-\\pi^S)(1-\\pi)}.\n",
    "\\end{align}$$\n",
    "\n",
    "Finally this implies the objective function:\n",
    "\n",
    "$$\\begin{align}\n",
    "        \\max\\mbox{ }\\pi^S\\sqrt{c}+\\sqrt{(1-\\pi^S)(1-\\pi)\\left[(1-\\pi c)R-(\\pi^S-\\pi)c\\dfrac{R}{L}\\right]}, \n",
    "\\end{align}$$\n"
   ]
  },
  {
   "cell_type": "markdown",
   "metadata": {},
   "source": [
    "### Characterizing the solution:\n",
    "\n"
   ]
  },
  {
   "cell_type": "markdown",
   "metadata": {},
   "source": [
    "We are not going to solve for an analytic value of the optimal $\\pi^S$ policy. Instead we characterize it and conclude with some comments on consistency:\n",
    "\n",
    "* Note that when $\\pi^S=\\pi$: \n",
    "$$\\begin{align}\n",
    "    c_2^S(\\pi^S) &= R\\dfrac{1-\\pi c}{(1-\\pi)^2} \\\\ \n",
    "    &=\\dfrac{c}{1-\\pi}>c,\n",
    "\\end{align}$$\n",
    "where the second equality comes from using the expression for $c$ derived in Q4. Thus if $\\pi^S$ is kept around $\\pi$, the patient households benefits from not withdrawing.\n",
    "* Furthermore, $c_2^S$ is decreasing in $\\pi^S$:\n",
    "$$\\begin{align}\n",
    "    \\dfrac{\\partial c_2^s}{\\partial \\pi^S} = R\\dfrac{1-\\pi c-\\frac{c}{L}(1-\\pi)}{(1-\\pi^s)^2(1-\\pi)}<0\n",
    "\\end{align}$$\n",
    "(and $\\partial^2c_2^s/\\partial (\\pi^S)^2>0$)\n",
    "Thus when $\\pi^S$ is increased, the payoff for $t=2$ decreases.\n",
    "\n",
    "* **Optimal policy** can be time inconsistent:\n",
    "    * If optimal $\\pi^S>\\pi$, the *ex ante* and *ex post* optimal policies do not coincide. (time-inconsistent)\n",
    "    * If this is the case, it can be rational for patient households to run the bank in $t=1$ even though the bank promised in $t=0$ to cap payouts to $\\pi c$.\n",
    "* **Optimal policy** might still eliminate bank runs:\n",
    "    * If the optimal $\\pi^S$ ensures $c_2^S>c$, the bank run equilibrium is not feasible. \n",
    "    * Furthermore, if $c_2^S>c$ the first bank cannot occur either (under rational expectations of course): At the start of $t=1$ a patient households consider to run the bank. If he acknowledges that **even** if the others run the bank, the limit on convertability is only moved from $\\pi$ to $\\pi^S$: If $c_2^S>c$ in this state, there is no need to run the bank to start with."
   ]
  },
  {
   "cell_type": "code",
   "execution_count": null,
   "metadata": {},
   "outputs": [],
   "source": []
  }
 ],
 "metadata": {
  "kernelspec": {
   "display_name": "Python 3",
   "language": "python",
   "name": "python3"
  },
  "language_info": {
   "codemirror_mode": {
    "name": "ipython",
    "version": 3
   },
   "file_extension": ".py",
   "mimetype": "text/x-python",
   "name": "python",
   "nbconvert_exporter": "python",
   "pygments_lexer": "ipython3",
   "version": "3.7.3"
  }
 },
 "nbformat": 4,
 "nbformat_minor": 4
}
