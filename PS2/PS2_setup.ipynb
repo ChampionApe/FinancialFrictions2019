{
 "cells": [
  {
   "cell_type": "code",
   "execution_count": 1,
   "metadata": {},
   "outputs": [],
   "source": [
    "import numpy as np\n",
    "import math\n",
    "from scipy import optimize\n",
    "import numba as nb\n",
    "import cap_equi as func\n",
    "import interactive_plots as int_plot\n",
    "\n",
    "import scipy.stats as stats\n",
    "\n",
    "# For plots:\n",
    "import matplotlib.pyplot as plt\n",
    "import matplotlib as mpl\n",
    "%matplotlib inline\n",
    "plt.style.use('seaborn-whitegrid')\n",
    "mpl.style.use('seaborn')\n",
    "prop_cycle = plt.rcParams[\"axes.prop_cycle\"]\n",
    "colors = prop_cycle.by_key()[\"color\"]\n",
    "import ipywidgets as widgets\n",
    "from ipywidgets import interact, interact_manual"
   ]
  },
  {
   "cell_type": "markdown",
   "metadata": {},
   "source": [
    "# PS2, part 1: Welfare effects of capital injection"
   ]
  },
  {
   "cell_type": "markdown",
   "metadata": {},
   "source": [
    "The exercise consists of the core setup:\n",
    "* Two periods, $t=0,1$,\n",
    "* Two types of agents: Consumers and entrepreneurs. \n",
    "* **Consumers:**\n",
    "    * Linear utility $u_c = c_0^c+c_1^c$.\n",
    "    * Large endowment of consumption goods in each period: $e$. \n",
    "    * Labor endowment of $e_l=1$. Inelastically supplied in a competitive labor market at the price $w_1$.\n",
    "* **Entrepreneurs:**\n",
    "    * Linear utility $u_e = c_0^e+c_1^e$.\n",
    "    * Small endowment $n_0$ in period 0. \n",
    "    * Borrow $b_1$, invest in capital $k_1$. \n",
    "    * Period 1 they hire labor $l_1$ at wage $w_1$.\n",
    "    * Entrepreneurs utilize capital and labor in $t=1$ with Cobb-Douglas production function \n",
    "    $$ \\begin{align} \n",
    "    y_1 = k_1^{\\alpha}l_1^{1-\\alpha} \\notag\n",
    "    \\end{align} $$\n",
    "    * **Entrepreneurs are borrowing constrained:**\n",
    "    $$\\begin{align} \n",
    "    b_1\\leq \\lambda \\left(y_1-w_1l_1\\right), && \\lambda\\in (0,1) \\notag\n",
    "    \\end{align} $$\n",
    "* Assume that endowment of consumption goods $(e)$ is *sufficiently* large, for the interest rate to be 1 in equilibrium. (We will show what *sufficiently* means here)."
   ]
  },
  {
   "cell_type": "markdown",
   "metadata": {},
   "source": [
    "## Q1: Three parts. (i) State the entrepreneur's problem. (ii) Argue that entrepreneurs will choose to maximize profits in period 1, a linear function of $k_1$, and (3) restate entrepreneur's problem as a simple linear problem."
   ]
  },
  {
   "cell_type": "markdown",
   "metadata": {},
   "source": [
    "### (i) Entrepreneur problem:"
   ]
  },
  {
   "cell_type": "markdown",
   "metadata": {},
   "source": [
    "Go through the steps:\n",
    "\n",
    "1. For the entrepreneur write up the maximization problem. This inludes:\n",
    "    * Objective function, what is maximized? Constraints on the problem are\n",
    "    * The budget for $t=0$, (with \"=\")\n",
    "    * the budget for $t=1$, (with \"=\")\n",
    "    * the production function, (with \"=\")\n",
    "    * the credit constraint (with \"$\\leq$\").\n",
    "    Let us refer ot this as **(Problem 1)**.\n",
    "    \n",
    "2. Next, substitute for budgets $t=0,t=1$ into the utility function.\n",
    "3. Substitute for the production function in both the function from step 2., and the credit constraint. We end up with what we refer to as **problem 2**, that should look like something like this:\n",
    "\n",
    "$$\\begin{align}\n",
    "    \\max_{k_1,l_1,b_1} n_0+k_1^{\\alpha}l_1^{1-\\alpha}-k_1-w_1l_1, && s.t. b_1\\leq \\lambda \\left(k_1^{\\alpha}l_1^{1-\\alpha}-w_1l_1\\right). \\tag{Problem 2}\n",
    "\\end{align}$$ \n",
    "\n",
    "\n"
   ]
  },
  {
   "cell_type": "markdown",
   "metadata": {},
   "source": [
    "### (ii) Optimal choice of labor:"
   ]
  },
  {
   "cell_type": "markdown",
   "metadata": {},
   "source": [
    "Note that profits in $t=1$ is given by:\n",
    "\n",
    "$$\\begin{align}\n",
    "    \\pi_1 = k_1^{\\alpha}l_1^{1-\\alpha}-w_1l_1.\n",
    "\\end{align}$$\n",
    "\n",
    "Find the first order conditions in **(Problem 2)** defined above, and show that this implies:\n",
    "\n",
    "$$\\begin{align}\n",
    "    w_1 = (1-\\alpha)k_1^{\\alpha}l_1^{-\\alpha}\n",
    "\\end{align}$$\n",
    "\n",
    "and thus also \n",
    "\n",
    "$$\\begin{align} \n",
    "w_1l_1^* = (1-\\alpha)k_1^{\\alpha}(l_1^*)^{1-\\alpha}, \\tag{Labor Share}\n",
    "\\end{align}$$ \n",
    "\n",
    "and \n",
    "\n",
    "$$\\begin{align}\n",
    "    l_1^* = \\dfrac{(1-\\alpha)^{1/\\alpha}k_1}{w_1^{1/\\alpha}}. \\tag{$l^*$}\n",
    "\\end{align}$$\n",
    "\n",
    "Use this to write the **profit function** as:\n",
    "\n",
    "$$\\begin{align}\n",
    "    \\pi_1(l=l^*) &= \\underbrace{\\dfrac{\\alpha (1-\\alpha)^{(1-\\alpha)/\\alpha}}{w_1^{(1-\\alpha)/\\alpha}}}_{\\equiv R(w_1)}k_1 \\tag{Profit}\n",
    "\\end{align}$$\n",
    "\n",
    "\n",
    "\n",
    "\n",
    "\n"
   ]
  },
  {
   "cell_type": "markdown",
   "metadata": {},
   "source": [
    "### (iii) Restate as linear problem. \n",
    "\n",
    "Use the results above. Refer to this linear problem as **(Problem 3)**."
   ]
  },
  {
   "cell_type": "markdown",
   "metadata": {},
   "source": [
    "## Q2: Derive entrepreneur's demand for capital, and argue how the solution depends on $\\lambda$ and $R(w_1)$."
   ]
  },
  {
   "cell_type": "markdown",
   "metadata": {},
   "source": [
    "Problem $3$ is linear in $k_1$. Thus capital demand depends on the range of the interest rate. Explain the three potential solutions:\n",
    "\n",
    "* If $R(w_1)<1$?\n",
    "* If $\\lambda R(w_1)>1$?\n",
    "* If $\\lambda R(w_1)<1<R(w_1)$?\n",
    "* If $R(w_1)=1$?\n",
    "\n",
    "In the figures below you can see how the demand changes with parameter values of e.g. $\\lambda$. (The other line in the graph is $(\\alpha k^{\\alpha-1})$ which also has to hold in equilibrium) \n",
    "\n",
    "\n",
    ".\n",
    "\n",
    ".\n",
    "\n",
    ".\n",
    "\n",
    ".\n",
    "\n",
    ".\n",
    "\n",
    ".\n",
    "\n",
    ".\n",
    "\n",
    "Hint: Capital demand in the different ranges are given by (not necessarily correct order compared to bullets above)\n",
    "\n",
    "$$\\begin{align} \n",
    "     k_1^* &= \\dfrac{n_0}{1-\\lambda R(w_1)} \\\\ \n",
    "     k_1^* &= 0 \\\\ \n",
    "     k_1^* &= \\infty \\\\\n",
    "      k_1^*&\\in\\left[0,\\mbox{ }\\dfrac{n_0}{1-\\lambda}\\right] \\\\ \n",
    "\\end{align}$$\n"
   ]
  },
  {
   "cell_type": "code",
   "execution_count": 2,
   "metadata": {},
   "outputs": [
    {
     "data": {
      "application/vnd.jupyter.widget-view+json": {
       "model_id": "780fad4a627f44bb8483f805445da40c",
       "version_major": 2,
       "version_minor": 0
      },
      "text/plain": [
       "interactive(children=(FloatSlider(value=0.55, description='$\\\\lambda$', max=0.9, step=0.05), FloatSlider(value…"
      ]
     },
     "metadata": {},
     "output_type": "display_data"
    }
   ],
   "source": [
    "# Baseline parameters:\n",
    "n_0base, lambda_base, alpha_base, Inf = 0.1, 0.55, 0.9, 10**3\n",
    "\n",
    "# Exogenous grid of R (interest rate):\n",
    "R_min, R_max, N_R= 0.1, 2, 100\n",
    "R_grid = np.linspace(R_min, R_max, N_R)\n",
    "\n",
    "# Upper and lower limit of sliders to operate below:\n",
    "n_0_lower, n_0_upper, n_0_step = 0, 0.5, 0.05\n",
    "lambda_lower, lambda_upper, lambda_step = 0, 0.9, 0.05\n",
    "\n",
    "# Plot:\n",
    "int_plot.interactive_cap(n_0base, lambda_base, alpha_base, Inf, N_R, R_grid, n_0_lower, n_0_upper, n_0_step, lambda_lower, lambda_upper, lambda_step)"
   ]
  },
  {
   "cell_type": "code",
   "execution_count": 3,
   "metadata": {},
   "outputs": [
    {
     "data": {
      "application/vnd.jupyter.widget-view+json": {
       "model_id": "1e983dacefa044c385ac077750cf1f5c",
       "version_major": 2,
       "version_minor": 0
      },
      "text/plain": [
       "interactive(children=(FloatSlider(value=0.46, description='$\\\\lambda$', max=0.9, step=0.01), Output()), _dom_c…"
      ]
     },
     "metadata": {},
     "output_type": "display_data"
    }
   ],
   "source": [
    "# Grids:\n",
    "n_0_lower, n_0_upper, N_n = 0, 0.5, 51  \n",
    "lambda_lower, lambda_upper, N_lambda = 0, 0.9, 91\n",
    "n_grid = np.linspace(n_0_lower, n_0_upper,N_n, dtype=np.float)\n",
    "lambda_grid, lambda_step = np.linspace(lambda_lower, lambda_upper, N_lambda, retstep=True, dtype=np.float)\n",
    "# baseline:\n",
    "n_0base, lambda_base, alpha = 0.1, 0.5, 0.9\n",
    "# Plot:\n",
    "int_plot.interactive_equicap(N_n,N_lambda,alpha,n_grid,lambda_grid,math.ceil(N_lambda/2),lambda_lower, lambda_upper,lambda_step)"
   ]
  },
  {
   "cell_type": "markdown",
   "metadata": {},
   "source": [
    "## Q3: Show the cutoff $n^*$, where $n_0 \\geq n^*$$ implies that the first-best level of capital can be financed, and the borrowing constraint is not binding."
   ]
  },
  {
   "cell_type": "markdown",
   "metadata": {},
   "source": [
    "You can think of the following:\n",
    "\n",
    "* Impose $l_1=1$ in equilibrium (endowment of labor from consumers, supplied inelastically).\n",
    "* Define the first-best level of capital, as the one that **maximizes net ouptut** $(y_1-k_1)$.\n",
    "* In equilibrium we further use that the market for capital is competitive, implying that the rate of return on capital has to follow:\n",
    "\n",
    "$$\\begin{align}\n",
    "    R(w_1) = \\alpha k_1^{\\alpha-1}, && \\Rightarrow && k_1 = \\left(\\dfrac{\\alpha}{R(w_1)}\\right)^{1/(1-\\alpha)}\n",
    "\\end{align}$$\n",
    "\n",
    "Given this and the capital demand function from Q2, when is the first-best level feasible?\n"
   ]
  },
  {
   "cell_type": "markdown",
   "metadata": {},
   "source": [
    "## Q4: Show that if n<n* there is an equilibrium where the entrepreneurs are constrained and $k_1$ becomes an increasing function of $n_0$."
   ]
  },
  {
   "cell_type": "markdown",
   "metadata": {},
   "source": [
    "It follows from Q2-Q3 that the threshold exists, and that the entrepreneur is credit-constrained in this region. Now:\n",
    "\n",
    "* Use the relevant capital demand from Q2. \n",
    "* Plug in the expression for equilibrium $R(w_1)$. \n",
    "* Solve for $k$ in this expression.\n",
    "\n",
    "**Note:** When the entrepreneur is credit-constrained, $k_1$ is not only an increasing function of $n_0$, the effect of increased equity is **more** than 1-to-1. Why is this the case?"
   ]
  },
  {
   "cell_type": "markdown",
   "metadata": {},
   "source": [
    "## Q5: Introduce a lump-sum tax on consumers in period 0 that transfers wealth to entrepreneurs. Derive expected utility as a function of the lump sum tax rate."
   ]
  },
  {
   "cell_type": "markdown",
   "metadata": {},
   "source": [
    "Hints:\n",
    "\n",
    "* Split up the consideration into the region where E is credit-constrained, and where E is not.\n",
    "* You can use all of the solutions from above and simply replace $n_0$ with $n_0+\\tau$ for the entrepreneur.\n",
    "\n",
    "You do not need to arrive at exactly this expression, but show that the effect of an increase in $\\tau$ has the following effect on utility of entrepreneurs:\n",
    "\n",
    "$$\\begin{align}\n",
    "    \\dfrac{\\partial U_e}{\\partial \\tau} = \\left\\lbrace \\begin{array}{ll}  1 & n_0+\\tau\\geq n^* \\\\\n",
    "    \\dfrac{\\alpha R(w_1)(1-\\lambda)}{1-\\alpha \\lambda R(w_1)} & n_0+\\tau<n^* \\end{array}\\right.\n",
    "\\end{align}$$"
   ]
  },
  {
   "cell_type": "markdown",
   "metadata": {},
   "source": [
    "## Q6: Show that the relationship between consumer utility and the lump-sum tax is non-monotone. Show that for sufficiently small $n_0$ the tax can be pareto-improving."
   ]
  },
  {
   "cell_type": "markdown",
   "metadata": {},
   "source": [
    "Entrepreneurs always benefit from the tax. \n",
    "\n",
    "For consumers the tax includes three potential effects. Show that the effect on utility is given by:\n",
    "\n",
    "$$\\begin{align}\n",
    "    \\dfrac{\\partial U_c}{\\partial \\tau} = \\left\\lbrace \\begin{array}{ll} \\color{red}{-1}, & n_0+\\tau\\geq n^* \\\\ \\color{red}{-1} +\\color{blue}{(1-\\alpha)R(w_1)}\\color{blueviolet}{\\dfrac{\\partial k_1}{\\partial \\tau}}, & n_0+\\tau<n^*\\end{array}\\right.\n",
    "\\end{align}$$\n",
    "\n",
    "Explain the three effects (here marked with different colors)."
   ]
  },
  {
   "cell_type": "markdown",
   "metadata": {},
   "source": [
    "## Q7: Discuss how this justifies government's capital injection during the financial crisis. What features might the model be missing?"
   ]
  },
  {
   "cell_type": "markdown",
   "metadata": {},
   "source": [
    "## Q8: How does key findings in Q6 depend on the type of borrowing constraint?"
   ]
  },
  {
   "cell_type": "markdown",
   "metadata": {},
   "source": [
    "# PS2, part 2: Costly state verification and optimality of debt"
   ]
  },
  {
   "cell_type": "markdown",
   "metadata": {},
   "source": [
    "The core of the model setup:\n",
    "\n",
    "* **Utility** is linear: $U_E=c_0+c_1$.\n",
    "* Entrepreneur invests at time $0$, cost $I$. Return at time $t=1$ is random, distributed according to $g(s)$:\n",
    "\n",
    "$$\\begin{align}\n",
    "    Return = Rs, && s\\sim g(s), && \\text{Support on }S\\equiv \\left[s^{min}, s^{max}\\right]\n",
    "\\end{align}$$\n",
    "Also assumed that\n",
    "$$\\begin{align}\n",
    "    \\mathbb{E}[s]=1, && R>I.\n",
    "\\end{align}$$\n",
    "\n",
    "* **Asymmetric information:** State $s$ is unknown at time $t=0$. At time $t=1$ the entrepreneur (E) observes the true value of $s$ costlessly. The financier (F) can choose to audit and observe it, but at the cost $\\kappa>0$.\n",
    "* **Assumption:** The financier chooses a *deterministic* audit rule. I.e. no *random/stochastic* audit rule. By the *revelation principle:* Only focus on contracts in which E has no incentive to lie. \n",
    "* **Contracts:** Specified by the triplet\n",
    "\n",
    "$$\\begin{align}\n",
    "    Contract = \\left( R^E(s), \\mbox{ }R^F(s), \\mbox{ }S_A\\right), && S_A\\subset S\n",
    "\\end{align}$$\n",
    "where $R^E(s)$ and $R^F(s)$ denotes the payoffs for E,F (net of audit cost). $S_A$ is the set of states $S$, where $F$ chooses to audit.\n",
    "\n",
    "* **Resource constraint:**\n",
    "\n",
    "$$\\begin{align}\n",
    "    R^E(s)+R^F(s)+\\kappa \\mathbf{1}_{s\\in S_A} = Rs, && R^E(s)\\geq 0.\n",
    "\\end{align}$$\n",
    "\n",
    "where $\\mathbf{1}_{s\\in S_A}$ indicates auditing, and the inequality captures *limited liability* of the entrepreneur.\n",
    "\n",
    "* **Participation constraint:** (for F)\n",
    "\n",
    "$$\\begin{align}\n",
    "    \\int_S R^F(s)g(s)\\mbox{ }ds\\geq I.\n",
    "\\end{align}$$\n",
    "\n",
    "States that expected revenue covers investment cost."
   ]
  },
  {
   "cell_type": "markdown",
   "metadata": {},
   "source": [
    "### Q1: Write down the IC constraint for E. What does it imply for F's net payoff?"
   ]
  },
  {
   "cell_type": "markdown",
   "metadata": {},
   "source": [
    "A few notes before you try this:\n",
    "\n",
    "* **IC constraint** with a continuous set of possible outcomes: *In any given state $s$ it must not be profitable to deviate to *any* state $s'$.*\n",
    "* A useful theroem/principle: **The revelation principle**. The principle roughly states that every potential equilibrium outcome, can be achieved by an incentive-compatible strategy.\n",
    "\n",
    "**What does it imply for F's net payoff?**\n",
    "\n",
    "* What does the (IC) imply for two states $s,s'$ that are both in the no-audit region? (Remember the IC constraint has to hold for both states)\n",
    "* Now consider the case where $s\\in S_A$ (alternative s' is not in audit region): What does the (IC) state in this case?\n",
    "* Does F receive higher/lower revenue in the audit region than in no-audit region?"
   ]
  },
  {
   "cell_type": "markdown",
   "metadata": {},
   "source": [
    "### Q2: Define a standard debt contract:\n",
    "\n",
    "$$\\begin{align}\n",
    "    R^F(s) = \\left\\lbrace \\begin{array}{ll} R\\bar{s}, & s\\geq \\bar{s} \\\\ Rs-\\kappa, & s\\leq \\bar{s} \\end{array}\\right., && S_A=\\left[s^{min},\\mbox{ }\\bar{s}\\right].\n",
    "\\end{align}$$\n",
    "\n",
    "### Check that any level $\\bar{s}$ satisfies both the resource constraint and the (IC)."
   ]
  },
  {
   "cell_type": "markdown",
   "metadata": {},
   "source": [
    "### Q3: Prove that the standard contract is optimal.\n",
    "\n",
    "This is a bit tricky. Read the hint given in the problem text, it provides some guidance."
   ]
  },
  {
   "cell_type": "markdown",
   "metadata": {},
   "source": [
    "### Q4: Assume that $s$ is uniform. Characterizes the riskiness of the optimal debt contract."
   ]
  },
  {
   "cell_type": "markdown",
   "metadata": {},
   "source": [
    "Assume that $s$ is uniform on $[1-\\Delta, 1+\\Delta]$. In other words the pdf (f) and cdf (F) are given by:\n",
    "\n",
    "$$\\begin{align}\n",
    "f(s) = \\dfrac{1}{2\\Delta}, && F(s) = \\dfrac{s-(1-\\Delta)}{2\\Delta}, && s\\in [1-\\Delta, 1+\\Delta]\n",
    "\\end{align}$$\n",
    "\n",
    "Now set up the following:\n",
    "\n",
    "* The entrepreneur's exptected profits when (1) $s\\leq \\bar{s}$ the entrepreneur receives 0 and when $s\\geq \\bar{s}$ he receives $Rs-R\\bar{s}$.\n",
    "* E maximizes expected profits **given** the financier participates, i.e. has non-negative expected profits. Explain that it looks like:\n",
    "\n",
    "$$\\begin{align}\n",
    "    \\dfrac{1}{2\\Delta} \\int_{\\bar{s}}^{1+\\Delta} R\\bar{s}\\mbox{ }ds+\\dfrac{1}{2\\Delta}\\int_{1-\\Delta}^{\\bar{s}}(Rs-\\kappa)\\mbox{ }ds\\geq I\n",
    "\\end{align}$$\n",
    "\n",
    "(note that you can easily integrate this out, as it is only linear in $s$).\n",
    "\n",
    "**Characterizing E's optimal contract:**\n",
    "\n",
    "To characterize the optimal debt contract, consider E's motive for choosing $\\bar{s}$: If he did not have to consider F's constraint, what is the optimal level then?\n",
    "\n",
    "Hint 1: The figure below illustrates how the expected profits (participation constraint, PC) varies with the level of investment costs, $I$ and the audit costs.\n",
    ".\n",
    "\n",
    ".\n",
    "\n",
    ".\n",
    "\n",
    ".\n",
    "\n",
    ".\n",
    "\n",
    "(Hint: If you can, try to show that the optimal $s^*$ for E is given by:)\n",
    "\n",
    "$$\\begin{align}\n",
    " \\bar{s}^* = \\left\\lbrace \\begin{array}{ll}1+\\Delta-\\dfrac{\\kappa}{R}-\\dfrac{1}{R}\\sqrt{(R(1+\\Delta)-\\kappa)^2+2R*\\left[(1-\\Delta)\\kappa-\\dfrac{R}{2}(1-\\Delta)^2-2\\Delta I\\right]}, & R(1-\\Delta)<I \\\\ 1-\\Delta, & R(1-\\Delta)\\geq I \\end{array}\\right.\n",
    "\\end{align}$$"
   ]
  },
  {
   "cell_type": "code",
   "execution_count": 4,
   "metadata": {},
   "outputs": [
    {
     "data": {
      "application/vnd.jupyter.widget-view+json": {
       "model_id": "effbb81bd3ed4ab986948cce7681b925",
       "version_major": 2,
       "version_minor": 0
      },
      "text/plain": [
       "interactive(children=(FloatSlider(value=1.5, description='I', max=2.0), FloatSlider(value=0.1, description='$\\…"
      ]
     },
     "metadata": {},
     "output_type": "display_data"
    },
    {
     "name": "stdout",
     "output_type": "stream",
     "text": [
      "0.8155711229775239\n"
     ]
    }
   ],
   "source": [
    "# Parameter values:\n",
    "R = 2\n",
    "I = 1.5\n",
    "Delta = 0.5\n",
    "kappa = 0.1\n",
    "# Grid of sbar:\n",
    "sbar = np.linspace(1-Delta, 1+Delta, 101)\n",
    "# PC constraint:\n",
    "int_plot.interactive_pc(R,I,Delta,kappa,sbar)\n",
    "s_star = 1+Delta-kappa/R-(1/R)*math.sqrt((R*(1+Delta)-kappa)**2+2*R*((1-Delta)*kappa-(R/2)*(1-Delta)**2-2*Delta*I))\n",
    "print(s_star)"
   ]
  },
  {
   "cell_type": "markdown",
   "metadata": {},
   "source": [
    "### Q5: Find the threshold cost $I$, where the project is profitable. Comment on the solution."
   ]
  },
  {
   "cell_type": "markdown",
   "metadata": {},
   "source": [
    "Use the result in Q4: The choice of $s^*$ follows one of two scenarios:\n",
    "\n",
    "* (Scenario 1) If $R(1-\\Delta)\\geq I$, what is the level of $s^*$? What is the maximum level of $I$ where the participation constraint (PC) holds?\n",
    "* (Scenario 2) If $R(1-\\Delta)<I$, how is $s^*$ determined? (Hint PC holds w. equality)\n",
    "\n",
    "Hint 1: To show the maximum level of $I$ in scenario 2, note that the (PC) equation with equality is a *quadratic equation*. This has a solution as long as the determinant $\\geq 0$.\n",
    "\n",
    ".\n",
    "\n",
    ".\n",
    "\n",
    ".\n",
    "\n",
    ".\n",
    "\n",
    ". \n",
    "\n",
    "Hint 2: The maximum investment level is given by:\n",
    "\n",
    "$$\\begin{align}\n",
    "     I^{max} = \\max \\Bigg\\lbrace \\underbrace{R-\\kappa+\\dfrac{\\kappa^2}{4\\Delta R}}_{\\text{Scenario 1}},\\mbox{ }\\mbox{ }\\underbrace{R(1-\\Delta)}_{\\text{Scenario 2}}\\Bigg\\rbrace.\n",
    "\\end{align}$$\n"
   ]
  },
  {
   "cell_type": "code",
   "execution_count": null,
   "metadata": {},
   "outputs": [],
   "source": []
  }
 ],
 "metadata": {
  "kernelspec": {
   "display_name": "Python 3",
   "language": "python",
   "name": "python3"
  },
  "language_info": {
   "codemirror_mode": {
    "name": "ipython",
    "version": 3
   },
   "file_extension": ".py",
   "mimetype": "text/x-python",
   "name": "python",
   "nbconvert_exporter": "python",
   "pygments_lexer": "ipython3",
   "version": "3.7.3"
  }
 },
 "nbformat": 4,
 "nbformat_minor": 4
}
