{
 "cells": [
  {
   "cell_type": "code",
   "execution_count": 7,
   "metadata": {},
   "outputs": [],
   "source": [
    "import numpy as np\n",
    "import math\n",
    "from scipy import optimize\n",
    "import numba as nb\n",
    "import cap_equi as func\n",
    "import interactive_plots as int_plot\n",
    "\n",
    "import scipy.stats as stats\n",
    "\n",
    "# For plots:\n",
    "import matplotlib.pyplot as plt\n",
    "import matplotlib as mpl\n",
    "%matplotlib inline\n",
    "plt.style.use('seaborn-whitegrid')\n",
    "mpl.style.use('seaborn')\n",
    "prop_cycle = plt.rcParams[\"axes.prop_cycle\"]\n",
    "colors = prop_cycle.by_key()[\"color\"]\n",
    "import ipywidgets as widgets\n",
    "from ipywidgets import interact, interact_manual"
   ]
  },
  {
   "cell_type": "markdown",
   "metadata": {},
   "source": [
    "# PS2, part 1: Welfare effects of capital injection"
   ]
  },
  {
   "cell_type": "markdown",
   "metadata": {},
   "source": [
    "The exercise consists of the core setup:\n",
    "* Two periods, $t=0,1$,\n",
    "* Two types of agents: Consumers and entrepreneurs. \n",
    "* **Consumers:**\n",
    "    * Linear utility $u_c = c_0^c+c_1^c$.\n",
    "    * Large endowment of consumption goods in each period: $e$. \n",
    "    * Labor endowment of $e_l=1$. Inelastically supplied in a competitive labor market at the price $w_1$.\n",
    "* **Entrepreneurs:**\n",
    "    * Linear utility $u_e = c_0^e+c_1^e$.\n",
    "    * Small endowment $n_0$ in period 0. \n",
    "    * Borrow $b_1$, invest in capital $k_1$. \n",
    "    * Period 1 they hire labor $l_1$ at wage $w_1$.\n",
    "    * Entrepreneurs utilize capital and labor in $t=1$ with Cobb-Douglas production function \n",
    "    $$ \\begin{align} \n",
    "    y_1 = k_1^{\\alpha}l_1^{1-\\alpha} \\notag\n",
    "    \\end{align} $$\n",
    "    * **Entrepreneurs are borrowing constrained:**\n",
    "    $$\\begin{align} \n",
    "    b_1\\leq \\lambda \\left(y_1-w_1l_1\\right), && \\lambda\\in (0,1) \\notag\n",
    "    \\end{align} $$\n",
    "* Assume that endowment of consumption goods $(e)$ is *sufficiently* large, for the interest rate to be 1 in equilibrium. (We will show what *sufficiently* means here)."
   ]
  },
  {
   "cell_type": "markdown",
   "metadata": {},
   "source": [
    "## Q1: Three parts. (i) State the entrepreneur's problem. (ii) Argue that entrepreneurs will choose to maximize profits in period 1, a linear function of $k_1$, and (3) restate entrepreneur's problem as a simple linear problem."
   ]
  },
  {
   "cell_type": "markdown",
   "metadata": {},
   "source": [
    "### (i) Entrepreneur problem:"
   ]
  },
  {
   "cell_type": "markdown",
   "metadata": {},
   "source": [
    "Interpret bullets from **entrepreneurs** above as a problem:\n",
    "\n",
    "$$\n",
    "\\begin{align}\n",
    "    \\max_{c_0,c_1,k_1,l_1,y_1,b_1} \\mbox{ } c_0+c_1,& \\notag \\\\ \n",
    "    \\text{s.t. }\\mbox{ }c_0+k_1 &= n_0+b_1 \\notag \\\\  \n",
    "                        c_1+b_1 &= y_1-w_1l_1 \\tag{Problem 1}\\\\ \n",
    "                            y_1 &= k_1^{\\alpha}l_1^{1-\\alpha} \\notag \\\\ \n",
    "                            b_1\\leq &\\lambda \\left(y_1-w_1l_1\\right) \\notag\n",
    "\\end{align}$$"
   ]
  },
  {
   "cell_type": "markdown",
   "metadata": {},
   "source": [
    "States that:\n",
    "1. Maximize consumption (risk-neutrality).\n",
    "2. Budget $t=0$: Consumption $(c_0)$ and investment $(k_1)$ equals income from endowment $(n_0)$ and borrowing $(b_1)$.\n",
    "3. Budget $t=1$: Consumption $(c_1)$ and repayment of debt $(b_1)$ equals income from production $(y_1)$ minues wages $(w_1l_1)$.\n",
    "4. Production is Cobb-Douglas.\n",
    "5. Entrepreneur is credit-constrained, with $\\lambda$ denoting the degree of future profits that can be used as collateral.\n",
    "\n",
    "Substitute for $c_0$ and $c_1$ into the utility function, using the budgets for $t=0,1$:\n",
    "\n",
    "$$\\begin{align} \n",
    "    c_0+c_1 &= n_0+b_1-k_1+y_1-w_1l_1-b_1 \\\\ \n",
    "            &= n_0+y_1-k_1-w_1l_1 \n",
    "\\end{align}$$\n",
    "\n",
    "Substitue for $y_1$ using the Cobb-Douglas function (remember you should substitute for $y_1$ in both the object function **and** the constraints). The problem is then reduced to:\n",
    "\n",
    "$$\\begin{align}\n",
    "    \\max_{k_1,l_1,b_1} n_0+k_1^{\\alpha}l_1^{1-\\alpha}-k_1-w_1l_1, && s.t. b_1\\leq \\lambda \\left(k_1^{\\alpha}l_1^{1-\\alpha}-w_1l_1\\right). \\tag{Problem 2}\n",
    "\\end{align}$$ \n",
    "\n",
    "The Lagrangian function corresponding to this problem is then given by:\n",
    "\n",
    "$$\\begin{align} \n",
    "    \\mathcal{L}_2 = n_0+k_1^{\\alpha}l_1^{1-\\alpha}-k_1-w_1l_1+\\mu\\left[\\lambda\\left(k_1^{\\alpha}l_1^{1-\\alpha}-w_1l_1\\right)-b_1\\right],\n",
    "\\end{align}$$\n",
    "\n",
    "where $\\mu\\geq0$ is the shadow-variable related to the credit-constraint. As in problem set, exercise 3.5 in (JT), this problem is characterized by a set of first order conditions with Karush-Kuhn-Tucker conditions for $\\mu$ and the credit constraint. This is because of the inequality constraint (instead of standard Lagrangian approach when the constraint is with \"=\").\n"
   ]
  },
  {
   "cell_type": "markdown",
   "metadata": {},
   "source": [
    "### (ii) Optimal choice of labor:"
   ]
  },
  {
   "cell_type": "markdown",
   "metadata": {},
   "source": [
    "Note that profits in $t=1$ is given by:\n",
    "\n",
    "$$\\begin{align}\n",
    "    \\pi_1 = k_1^{\\alpha}l_1^{1-\\alpha}-w_1l_1.\n",
    "\\end{align}$$\n",
    "\n",
    "Optimal choice of labor $(l^*)$ is then characterized by:\n",
    "\n",
    "$$\\begin{align}\n",
    "    \\dfrac{\\partial \\mathcal{L}}{\\partial l_1} = (1-\\alpha)k_1^{\\alpha}l_1^{-\\alpha} -w_1 + \\mu\\lambda\\left[(1-\\alpha)k_1^{\\alpha}l_1^{-\\alpha}-w_1\\right] = 0\n",
    "\\end{align}$$\n",
    "\n",
    "We can rewrite this condition as:\n",
    "\n",
    "$$\\begin{align}\n",
    "    \\left[(1-\\alpha)k_1^{\\alpha}l_1^{-\\alpha}-w_1\\right](1+\\mu\\lambda)=0 && \\Rightarrow && w_1 = (1-\\alpha)k_1^{\\alpha}l_1^{-\\alpha}\n",
    "\\end{align}$$\n",
    "\n",
    "Note that this corresponds to maximizing $\\pi_1$ wrt. labor. Note further that we can use this to write up two other terms:\n",
    "\n",
    "$$\\begin{align} \n",
    "w_1l_1^* = (1-\\alpha)k_1^{\\alpha}(l_1^*)^{1-\\alpha}, \\tag{Labor Share}\n",
    "\\end{align}$$ \n",
    "\n",
    "and by isolating for $l_1$:\n",
    "\n",
    "$$\\begin{align}\n",
    "    l_1^* = \\dfrac{(1-\\alpha)^{1/\\alpha}k_1}{w_1^{1/\\alpha}}. \\tag{$l^*$}\n",
    "\\end{align}$$\n",
    "\n",
    "To show that the profit function is linear in $k_1$, when labor is chosen optimally, start by using (Labor Share):\n",
    "\n",
    "$$\\begin{align}\n",
    "    \\pi_1(l=l^*) &= k_1^{\\alpha}(l_1^*)^{1-\\alpha}-w_1l_1^* \\notag \\\\\n",
    "                 &= \\alpha k_1^{\\alpha}(l_1^*)^{1-\\alpha}\n",
    "\\end{align}$$\n",
    "\n",
    "Now substitute for $(l^*)$:\n",
    "\n",
    "$$\\begin{align}\n",
    "    \\pi_1(l=l^*) &= \\alpha k_1^{\\alpha}\\dfrac{(1-\\alpha)^{(1-\\alpha)/\\alpha}k_1^{1-\\alpha}}{w_1^{(1-\\alpha)/\\alpha}} \\notag \\\\ \n",
    "                 &= \\underbrace{\\dfrac{\\alpha (1-\\alpha)^{(1-\\alpha)/\\alpha}}{w_1^{(1-\\alpha)/\\alpha}}}_{\\equiv R(w_1)}k_1 \\tag{Profit}\n",
    "\\end{align}$$\n",
    "\n",
    "\n",
    "\n",
    "\n",
    "\n"
   ]
  },
  {
   "cell_type": "markdown",
   "metadata": {},
   "source": [
    "### (iii) Restate as linear problem:"
   ]
  },
  {
   "cell_type": "markdown",
   "metadata": {},
   "source": [
    "Using (Profit) in (Problem 2):\n",
    "\n",
    "$$\\begin{align}\n",
    "    \\max_{k_1,b_1}\\mbox{ }n_0-k_1+R(w_1)k_1, && \\text{s.t. } b_1\\leq \\lambda R(w_1)k_1 \\tag{Problem 3}.\n",
    "\\end{align} $$"
   ]
  },
  {
   "cell_type": "markdown",
   "metadata": {},
   "source": [
    "## Q2: Derive entrepreneur's demand for capital, and argue how the solution depends on $\\lambda$ and $R(w_1)$."
   ]
  },
  {
   "cell_type": "markdown",
   "metadata": {},
   "source": [
    "Problem $3$ is linear in $k_1$. Thus capital demand depends on:\n",
    "\n",
    "* If $R(w_1)<1$: Investment in capital is not profitable, $k_1^*=0$. (it is implicitly assumed that $k\\geq0$)\n",
    "* If $\\lambda R(w_1)>1$: Investment in capital is so profitable that borrowing constraint never binds, $k_1^*=\\infty$.\n",
    "* If $\\lambda R(w_1)<1<R(w_1)$: Capital is postponed as much as possible, but borrowing constraint will bind. Solution is then to set $c_0=0$ in the budget at $t=0$, and use that $b_1$ is determined by the borrowing constraint:\n",
    "\n",
    "$$\\begin{align} \n",
    "    k_1^* &= n_0 +b_1 \\\\\n",
    "          &= n_0+\\lambda R(w_1)k_1^* \\\\ \n",
    "\\Rightarrow k_1^* &= \\dfrac{n_0}{1-\\lambda R(w_1)}\n",
    "\\end{align}$$\n",
    "\n",
    "* Finally, if $R(w_1)=1$ the entrepreneur is indifferent between consumption and investment. In this case capital demand is indeterminate:\n",
    "$$\\begin{align}\n",
    "    k_1^*\\in\\left[0,\\mbox{ }\\dfrac{n_0}{1-\\lambda}\\right].\n",
    "\\end{align}$$"
   ]
  },
  {
   "cell_type": "markdown",
   "metadata": {},
   "source": [
    "**Illustrating demand for capital, and equilibrium capital**:\n",
    "\n",
    "Before we proceed to the next questions, let us briefly illustrate how capital demand looks like, and how it behaves in equilibrium. *(NB: You don't need to change anything in the cell with code below (you can though), just use the sliders in the graph.)* \n",
    "\n",
    "The first part here plots the capital demand and the interest rate function $(R=\\alpha k^{\\alpha-1})$. "
   ]
  },
  {
   "cell_type": "code",
   "execution_count": 5,
   "metadata": {},
   "outputs": [
    {
     "data": {
      "application/vnd.jupyter.widget-view+json": {
       "model_id": "6e2fc89e45e04aecbdd582c166097f68",
       "version_major": 2,
       "version_minor": 0
      },
      "text/plain": [
       "interactive(children=(FloatSlider(value=0.55, description='$\\\\lambda$', max=0.9, step=0.05), FloatSlider(value…"
      ]
     },
     "metadata": {},
     "output_type": "display_data"
    }
   ],
   "source": [
    "# Baseline parameters:\n",
    "n_0base, lambda_base, alpha_base, Inf = 0.1, 0.55, 0.9, 10**3\n",
    "\n",
    "# Exogenous grid of R (interest rate):\n",
    "R_min, R_max, N_R= 0.1, 2, 100\n",
    "R_grid = np.linspace(R_min, R_max, N_R)\n",
    "\n",
    "# Upper and lower limit of sliders to operate below:\n",
    "n_0_lower, n_0_upper, n_0_step = 0, 0.5, 0.05\n",
    "lambda_lower, lambda_upper, lambda_step = 0, 0.9, 0.05\n",
    "\n",
    "# Plot:\n",
    "int_plot.interactive_cap(n_0base, lambda_base, alpha_base, Inf, N_R, R_grid, n_0_lower, n_0_upper, n_0_step, lambda_lower, lambda_upper, lambda_step)"
   ]
  },
  {
   "cell_type": "markdown",
   "metadata": {},
   "source": [
    "The second part here plots the equilibrium value across $(\\lambda,n)$. "
   ]
  },
  {
   "cell_type": "code",
   "execution_count": 6,
   "metadata": {},
   "outputs": [
    {
     "data": {
      "application/vnd.jupyter.widget-view+json": {
       "model_id": "bde0dcd26e3d4302a5b381d7ad7c92ec",
       "version_major": 2,
       "version_minor": 0
      },
      "text/plain": [
       "interactive(children=(FloatSlider(value=0.46, description='$\\\\lambda$', max=0.9, step=0.01), Output()), _dom_c…"
      ]
     },
     "metadata": {},
     "output_type": "display_data"
    }
   ],
   "source": [
    "# Grids:\n",
    "n_0_lower, n_0_upper, N_n = 0, 0.5, 51  \n",
    "lambda_lower, lambda_upper, N_lambda = 0, 0.9, 91\n",
    "n_grid = np.linspace(n_0_lower, n_0_upper,N_n, dtype=np.float)\n",
    "lambda_grid, lambda_step = np.linspace(lambda_lower, lambda_upper, N_lambda, retstep=True, dtype=np.float)\n",
    "# baseline:\n",
    "n_0base, lambda_base, alpha = 0.1, 0.5, 0.9\n",
    "# Plot:\n",
    "int_plot.interactive_equicap(N_n,N_lambda,alpha,n_grid,lambda_grid,math.ceil(N_lambda/2),lambda_lower, lambda_upper,lambda_step)"
   ]
  },
  {
   "cell_type": "markdown",
   "metadata": {},
   "source": [
    "## Q3: Show the cutoff $n^*$, where $n_0 \\geq n^*$$ implies that the first-best level of capital can be financed, and the borrowing constraint is not binding."
   ]
  },
  {
   "cell_type": "markdown",
   "metadata": {},
   "source": [
    "Let us define the first-best level of capital. Recall that in equilibrium $l_1=1$ (as this is the endowment supplied by consumers). Define first-best as **the level of capital that maximizes net output**:\n",
    "\n",
    "$$\\begin{align} \n",
    "    \\max_{k_1} k_1^{\\alpha}-k_1 && \\Rightarrow && k_1^{fb} = \\alpha^{1/(1-\\alpha)}.\n",
    "\\end{align}$$\n",
    "\n",
    "In equilibrium the interest rate $R(w_1)$ is defined by the marginal product of capital:\n",
    "\n",
    "$$\\begin{align}\n",
    "    R(w_1) = \\alpha k_1^{\\alpha-1}, && \\Rightarrow && k_1 = \\left(\\dfrac{\\alpha}{R(w_1)}\\right)^{1/(1-\\alpha)}\n",
    "\\end{align}$$\n",
    "\n",
    "Thus for $k_1=k_1^{fb}$ we need $R(w_1)=1$. When $R(w_1)=1$ the capital demand was indeterminate, i.e. it covered a range of possible solutions. The optimal level $k_1^{fb}$ is one of the feasible capital demand levels as long as:\n",
    "\n",
    "$$\\begin{align}\n",
    "k_1^{fb}\\equiv \\alpha^{1/(1-\\alpha)}\\in\\left[0,\\mbox{ }\\dfrac{n_0}{1-\\lambda}\\right]. \n",
    "\\end{align}$$\n",
    "\n",
    "As long as $n_0$ is sufficiently large the first best is thus an equilibrium. The threshold $n^*$ where the first best is an equilibrium for $n_0\\geq n^*$ is then given by the condition above with equality:\n",
    "\n",
    "$$\\begin{align}\n",
    "    \\alpha^{1/(1-\\alpha)} = \\dfrac{n^*}{1-\\lambda} && \\Rightarrow && n^* = (1-\\lambda)\\alpha^{1/(1-\\alpha)} \n",
    "\\end{align}$$\n",
    "\n",
    "\n",
    "\n",
    "**Addtional remark:** Give another explanation for why we need R=1 for optimality:\n",
    "\n",
    "Optimality requires that the $\\color{blue}{\\text{marginal rate of transformation}}$ equals $\\color{blue}{\\text{the marginal rate of substitution}}$"
   ]
  },
  {
   "cell_type": "markdown",
   "metadata": {},
   "source": [
    "## Q4: Show that if n<n* there is an equilibrium where the entrepreneurs are constrained and $k_1$ becomes an increasing function of $n_0$."
   ]
  },
  {
   "cell_type": "markdown",
   "metadata": {},
   "source": [
    "* **Capital demand:** Recall that when $n_0<n^*$ the entrepreneurs do not have sufficient equity; thus they are credit constrained.\n",
    "* In the credit constrained case recall that capital was given by the budget constraint for $t=0$ with $c_0=0$ imposed, i.e.:\n",
    "\n",
    "$$\\begin{align}\n",
    "    k_1 = n_0+\\lambda R(w_1) k_1.\n",
    "\\end{align}$$ \n",
    "\n",
    "Substituting for $R(w_1)$ this yields:\n",
    "\n",
    "$$\\begin{align}\n",
    "    k_1 - \\lambda\\alpha k_1^{\\alpha}=n_0. \\tag{$k_1^*$, credit-constrained}\n",
    "\\end{align}$$\n",
    "\n",
    "As long as $n_0<n^*$ this equations determines $k_1$. Differentiation wrt. $n_0$ then yields\n",
    "\n",
    "$$\\begin{align}\n",
    "    \\dfrac{\\partial k_1}{\\partial n_0}-\\lambda \\alpha^2k_1^{\\alpha-1}\\dfrac{\\partial k_1}{\\partial n_0}=1 && \\Rightarrow && \\dfrac{\\partial k_1}{\\partial n_0} = \\left(1-\\lambda \\alpha k_1^{\\alpha}\\dfrac{\\alpha}{k_1}\\right)^{-1}.\n",
    "\\end{align}$$\n",
    "\n",
    "Using the expression above for the credit constrained $k_1$ we can rearrange slightly to show that\n",
    "\n",
    "$$\\begin{align}\n",
    "\\dfrac{\\partial k_1}{\\partial n_0} = \\dfrac{1}{1-\\alpha(k_1-n_0)/k_1}>1\n",
    "\\end{align}$$\n",
    "\n",
    "Capital thus increases more than 1-to-1 with the entrepreneur's equity here. The reason for this is the following:\n",
    "\n",
    "In the credit constrained case the entrepreneur prefers to allocate **all** of his consumption to $t=1$: Thus when $n_0$ increases marginally so does $k_1$, initially 1-to-1. When $k_1$ increases the entrepreneur increases his future profits $(y_1-w_1l_1)$; this relaxes the credit-constraint, allowing him to borrow more against future profits. This increases investments further.  "
   ]
  },
  {
   "cell_type": "markdown",
   "metadata": {},
   "source": [
    "## Q5: Introduce a lump-sum tax on consumers in period 0 that transfers wealth to entrepreneurs. Derive expected utility as a function of the lump sum tax rate."
   ]
  },
  {
   "cell_type": "markdown",
   "metadata": {},
   "source": [
    "Let us start with the consumers' utility. This is straightforward:\n",
    "\n",
    "$$\\begin{align}\n",
    "    U_C(\\tau) = 2e-\\tau + \\overbrace{(1-\\alpha)k_1^{\\alpha}}^{\\equiv w_1(\\tau)}\n",
    "\\end{align}$$\n",
    "\n",
    "**The entrepreneur part:** \n",
    "\n",
    "Setup is as defined in (Problem 3) earlier, simply with an added $\\tau$:\n",
    "\n",
    "$$\\begin{align}\n",
    "    U_E(\\tau) = n_0+\\tau +k_1\\left[R(w_1)-1\\right] \n",
    "\\end{align}$$\n",
    "\n",
    "Substitute for the equilibrium interest rate we then have\n",
    "\n",
    "$$\\begin{align}\n",
    "    U_E(\\tau) = n_0+\\tau + \\alpha k_1^{\\alpha}-k_1\n",
    "\\end{align}$$\n",
    "\n",
    "Now we have two cases:\n",
    "\n",
    "### The credit-constrained case\n",
    "\n",
    "If $n_0+\\tau<n^*$: The entrepreneur is **credit-constrained**, and capital is defined as earlier by the equality \n",
    "\n",
    "$$\\begin{align}\n",
    "k_1-\\lambda \\alpha k_1^{\\alpha} = n_0+\\tau.\n",
    "\\end{align}$$\n",
    "\n",
    "Substituting for this we get\n",
    "\n",
    "$$\\begin{align}\n",
    "    U_E(\\tau) = \\alpha k_1^{\\alpha}(1-\\lambda)\n",
    "\\end{align}$$\n",
    "\n",
    "\n",
    "Increasing the tax $\\tau$ corresponds to increasing the available endowment for entrepreneurs at $t=0$. As we confirmed above, capital is increasing in $n_0$ and thus in $\\tau$, when the credit constraint is binding. Thus $\\partial U_E/\\partial\\tau>0$ when the entrepreneur is constrained. Technically we can confirm this:\n",
    "\n",
    "\n",
    "$$\\begin{align}\n",
    "    \\dfrac{\\partial U_E}{\\partial \\tau} &= \\alpha^2k_1^{\\alpha-1}(1-\\lambda)\\dfrac{\\partial k_1}{\\partial n_0} \\\\\n",
    "                                        &= \\alpha R(w_1)(1-\\lambda)\\dfrac{\\partial k_1}{\\partial n_0}>0\n",
    "\\end{align}$$\n",
    "\n",
    "Using the derivative $\\partial k_1/\\partial n_0$, we can (if we prefer) simplify this further as\n",
    "\n",
    "$$\\begin{align}\n",
    "    \\dfrac{\\partial U_E}{\\partial \\tau} &= \\dfrac{\\alpha R(w_1)(1-\\lambda)}{1-\\alpha \\lambda R(w_1)}>0, && n_0+\\tau<n^*\n",
    "\\end{align}$$\n",
    "\n"
   ]
  },
  {
   "cell_type": "markdown",
   "metadata": {},
   "source": [
    "### The non-constrained case: \n",
    "\n",
    "If $n_0+\\tau\\geq n^*$ the capital equilibrium is unaffected. In this case the tax simply transfers wealth from consumers to entrepreneurs, who then immediately consume it. In other words we sum up:\n",
    "\n",
    "$$\\begin{align}\n",
    "    \\dfrac{\\partial U_e}{\\partial \\tau} = \\left\\lbrace \\begin{array}{ll}  1 & n_0+\\tau\\geq n^* \\\\\n",
    "    \\dfrac{\\alpha R(w_1)(1-\\lambda)}{1-\\alpha \\lambda R(w_1)} & n_0+\\tau<n^* \\end{array}\\right.\n",
    "\\end{align}$$"
   ]
  },
  {
   "cell_type": "markdown",
   "metadata": {},
   "source": [
    "## Q6: Show that the relationship between consumer utility and the lump-sum tax is non-monotone. Show that for sufficiently small $n_0$ the tax can be pareto-improving."
   ]
  },
  {
   "cell_type": "markdown",
   "metadata": {},
   "source": [
    "Entrepreneurs always benefit from the tax. For consumers the tax includes three potential effects:\n",
    "\n",
    "$$\\begin{align}\n",
    "    \\dfrac{\\partial U_c}{\\partial \\tau} = \\left\\lbrace \\begin{array}{ll} \\color{red}{-1}, & n_0+\\tau\\geq n^* \\\\ \\color{red}{-1} +\\color{blue}{(1-\\alpha)R(w_1)}\\color{blueviolet}{\\dfrac{\\partial k_1}{\\partial \\tau}}, & n_0+\\tau<n^*\\end{array}\\right.\n",
    "\\end{align}$$\n",
    "\n",
    "When $n_0+\\tau\\geq n^*$ the effect is clearly negative. However, when entrepreneurs are credit-constrained:\n",
    "\n",
    "1. Negative wealth transfer effect: $\\color{red}{-1}$.\n",
    "2. Entrepreneurs increase capital investment, which increases labor wages: $\\color{blue}{(1-\\alpha)R(w_1)}$.\n",
    "3. **(Credit multiplier)** The transfer loosens credit constraitn incuding further investment: $\\color{blueviolet}{\\partial k_1/\\partial \\tau}>1$.\n",
    "\n",
    "If effects 2-3. dominate effect 1., the tax has a pareto-improving effect. Effects 2-3. are largest for small values of $k_1$ (thus $n_0$).\n",
    "\n"
   ]
  },
  {
   "cell_type": "markdown",
   "metadata": {},
   "source": [
    "## Q7: Discuss how this justifies government's capital injection during the financial crisis. What features might the model be missing?"
   ]
  },
  {
   "cell_type": "markdown",
   "metadata": {},
   "source": [
    "The role for capital injections in this model:\n",
    "\n",
    "* A capital injection relaxes the banks' borrowing constraint, increases lending to the real sector and thus investments. This increases employment (not in our model though) and wages, which can offset the effects of the recession. \n",
    "\n",
    "* *Caveats (a few of potentially many):*\n",
    "    1. Moral hazard (reputation effect): If financial institutions expect bailouts $\\Rightarrow$ increase risky investments.\n",
    "    2. Endogenous uncertainty: A feature of the financial crisis was precautionary behavior in light of increased uncertainty. The capital injection reduces uncertainty of asset prices."
   ]
  },
  {
   "cell_type": "markdown",
   "metadata": {},
   "source": [
    "## Q8: How does key findings in Q6 depend on the type of borrowing constraint?"
   ]
  },
  {
   "cell_type": "markdown",
   "metadata": {},
   "source": [
    "The short answer: The borrowing constraint is quite standard. There are microfoundations that lead to this type of constraint.\n",
    "\n",
    "In this model future profits can (partly) be collateralized. There are several potential explanations why future profits cannot entirely be collateralized.\n",
    "\n",
    "* **Informational/enforcement frictions** are at the heart of any borrowing constraint (to the best of my knowledge at least).\n",
    "* **Moral Hazard**: Behave/shirk.\n",
    "* **Collateralized assets** as Kiyotaki and Moore (1997) leads to similar results. "
   ]
  },
  {
   "cell_type": "markdown",
   "metadata": {},
   "source": [
    "# PS2, part 2: Costly state verification and optimality of debt"
   ]
  },
  {
   "cell_type": "markdown",
   "metadata": {},
   "source": [
    "The core of the model setup:\n",
    "\n",
    "* **Utility** is linear: $U_E=c_0+c_1$.\n",
    "* Entrepreneur invests at time $0$, cost $I$. Return at time $t=1$ is random, distributed according to $g(s)$:\n",
    "\n",
    "$$\\begin{align}\n",
    "    Return = Rs, && s\\sim g(s), && \\text{Support on }S\\equiv \\left[s^{min}, s^{max}\\right]\n",
    "\\end{align}$$\n",
    "Also assumed that\n",
    "$$\\begin{align}\n",
    "    \\mathbb{E}[s]=1, && R>I.\n",
    "\\end{align}$$\n",
    "\n",
    "* **Asymmetric information:** State $s$ is unknown at time $t=0$. At time $t=1$ the entrepreneur (E) observes the true value of $s$ costlessly. The financier (F) can choose to audit and observe it, but at the cost $\\kappa>0$.\n",
    "* **Assumption:** The financier chooses a *deterministic* audit rule. I.e. no *random/stochastic* audit rule. By the *revelation principle:* Only focus on contracts in which E has no incentive to lie. \n",
    "* **Contracts:** Specified by the triplet\n",
    "\n",
    "$$\\begin{align}\n",
    "    Contract = \\left( R^E(s), \\mbox{ }R^F(s), \\mbox{ }S_A\\right), && S_A\\subset S\n",
    "\\end{align}$$\n",
    "where $R^E(s)$ and $R^F(s)$ denotes the payoffs for E,F (net of audit cost). $S_A$ is the set of states $S$, where $F$ chooses to audit.\n",
    "\n",
    "* **Resource constraint:**\n",
    "\n",
    "$$\\begin{align}\n",
    "    R^E(s)+R^F(s)+\\kappa \\mathbf{1}_{s\\in S_A} = Rs, && R^E(s)\\geq 0.\n",
    "\\end{align}$$\n",
    "\n",
    "where $\\mathbf{1}_{s\\in S_A}$ indicates auditing, and the inequality captures *limited liability* of the entrepreneur.\n",
    "\n",
    "* **Participation constraint:** (for F)\n",
    "\n",
    "$$\\begin{align}\n",
    "    \\int_S R^F(s)g(s)\\mbox{ }ds\\geq I.\n",
    "\\end{align}$$\n",
    "\n",
    "States that expected revenue covers investment cost."
   ]
  },
  {
   "cell_type": "markdown",
   "metadata": {},
   "source": [
    "### Q1: Write down the IC constraint for E. What does it imply for F's net payoff?"
   ]
  },
  {
   "cell_type": "markdown",
   "metadata": {},
   "source": [
    "**IC constraint** with a continuous set of possible outcomes: *In any given state $s$ it must not be profitable to deviate to *any* state $s'$.*\n",
    "\n",
    "Another useful definition is **the revelation principle**. The principle roughly states that every potential equilibrium outcome, can be achieved by an incentive-compatible strategy.\n",
    "\n",
    "The IC constraint then states that\n",
    "\n",
    "$$\\begin{align}\n",
    "    Rs-R^F(s)-\\kappa \\mathbf{1}_{s\\in S_A}\\geq Rs-R^F(s'), && \\forall s'\\in\\left(S\\backslash S_A\\right)\n",
    "\\end{align}$$\n",
    "\n",
    "The left-hand side (LHS) is the profit from E telling the true $s$. The RHS is the outcome if E is in state $s$, but signal to F that he is in state $s'$. Note that we only consider deviations to $s'\\in (S\\backslash S_A)$. There is no incentive to lie about a state $s'$, where E knows he will be audited. \n",
    "\n",
    "**What does it imply for F's net payoff?**\n",
    "\n",
    "* Consider two states, $s,s'$, both in the no-audit region. The IC constraint for state $s$ states $R^F(s)\\geq R^F(s')$. The IC constraint for state $s$ states $R^F(s')\\geq R^F(s)$. \n",
    "\n",
    "* For them both to hold simultaneously, there must be exactly one payoff level for all $s\\notin S_A$. Denote this $R^F(\\bar{s})$. If there was a state with higher payoffs in the region $S\\backslash S_A$, where E is not audited, he would always report this.\n",
    "\n",
    "\n",
    "* Now consider the case where $s\\in S_A$ (recall that alternative $s'\\notin S_A$): The $(IC)$ then states that\n",
    "\n",
    "$$\\begin{align}\n",
    "    Rs-R^F(s)-\\kappa \\geq Rs-R^F(\\bar{s}) && \\Rightarrow && R^F(s)\\leq R^F(\\bar{s}), && \\forall s\\in S_A.\n",
    "\\end{align}$$\n",
    "\n",
    "* This states that in the audit region, the financier (F) has to accept lower returns $R^F(s)$ than in the non-audit region. If this was not the case, E would always report a state in the no-audit region, and thus get higher profits. "
   ]
  },
  {
   "cell_type": "markdown",
   "metadata": {},
   "source": [
    "### Q2: Define a standard debt contract:\n",
    "\n",
    "$$\\begin{align}\n",
    "    R^F(s) = \\left\\lbrace \\begin{array}{ll} R\\bar{s}, & s\\geq \\bar{s} \\\\ Rs-\\kappa, & s\\leq \\bar{s} \\end{array}\\right., && S_A=\\left[s^{min},\\mbox{ }\\bar{s}\\right].\n",
    "\\end{align}$$\n",
    "\n",
    "### Check that any level $\\bar{s}$ satisfies both the resource constraint and the (IC)."
   ]
  },
  {
   "cell_type": "markdown",
   "metadata": {},
   "source": [
    "* **(IC) constraint:** \n",
    "    * When $s\\geq \\bar{s}:$ The entrepreneur receives $R(s-\\bar{s})$ by telling the truth. The same if he over-reports. If he under-reports in the audit-region he receives 0.\n",
    "    * When $s<\\bar{s}:$ If E over-reports (in the no-audit region) he receives $R(s-\\bar{s})<0$. By true reporting he receives 0. \n",
    "\n",
    "    \n",
    "* **Resource constraint:** \n",
    "    * If $s\\geq \\bar{s}$ the resource constraint reads:\n",
    "    $$\\begin{align}\n",
    "        \\overbrace{R(s-\\bar{s})}^{R^E}+\\overbrace{R\\bar{s}}^{R^F} + \\overbrace{0}^{audit}= Rs\n",
    "    \\end{align}$$\n",
    "    * If $s<\\bar{s}$ the resource constraint reads:\n",
    "    \n",
    "$$\\begin{align}\n",
    "    \\overbrace{0}^{R^E} +\\overbrace{Rs-\\kappa}^{R^F} + \\overbrace{\\kappa}^{audit} = Rs\n",
    "\\end{align}$$\n",
    "\n",
    "\n",
    "\n",
    "\n"
   ]
  },
  {
   "cell_type": "markdown",
   "metadata": {},
   "source": [
    "### Q3: Prove that the standard contract is optimal."
   ]
  },
  {
   "cell_type": "markdown",
   "metadata": {},
   "source": [
    "Consider a non-standard contract:\n",
    "\n",
    "$$\\begin{align} \n",
    "    (\\tilde{R}^E, \\tilde{R}^F, \\tilde{S}_A)\n",
    "\\end{align}$$\n",
    "\n",
    "* The (IC) constraint still needs to hold. Thus for $s\\notin \\tilde{S}_A$ the non-standard contract still has to offer the same return. Denote this constant $\\tilde{R}^F$.\n",
    "* Note furthermore that $\\tilde{S}_A$ has to be a closed interval on the form $\\tilde{S}_A = [s^{min},\\tilde{s}]$: Assume there is a level $s$ that is not audited, but $s'>s$ is audited. If E is in state s', he can report $s$ without being audited and profit from it.\n",
    "* This implies that $\\tilde{R}^F=R\\tilde{s}$. \n",
    "\n",
    "Consider now the various regions of $s$:\n",
    "\n",
    "* For $s\\in\\left(\\tilde{S}_A \\cap S_A\\right):$ F receives $Rs-\\kappa$ in both cases.\n",
    "* For $s\\in\\left(\\tilde{S}_A \\cap (S\\backslash S_A)\\right):$ F receives higher payoff in standard debt contract, where he does not pay the audit cost.\n",
    "* For $s$ in non-audit region: Let the standard contract offer the level $\\bar{R}^F= \\tilde{R}^F$. Thus F is indifferent in these cases.\n",
    "\n",
    "For entrepreneurs: The standard debt contract minimizes audit-costs (given IC and participation constraints). Given that they receive the residual income F's payment, E prefers a standard contract as well. \n",
    "\n"
   ]
  },
  {
   "cell_type": "markdown",
   "metadata": {},
   "source": [
    "### Q4: Assume that $s$ is uniform. Characterizes the riskiness of the optimal debt contract."
   ]
  },
  {
   "cell_type": "markdown",
   "metadata": {},
   "source": [
    "Assume that $s$ is uniform on $[1-\\Delta, 1+\\Delta]$. In other words the pdf (f) and cdf (F) are given by:\n",
    "\n",
    "$$\\begin{align}\n",
    "f(s) = \\dfrac{1}{2\\Delta}, && F(s) = \\dfrac{s-(1-\\Delta)}{2\\Delta}, && s\\in [1-\\Delta, 1+\\Delta]\n",
    "\\end{align}$$\n",
    "\n",
    "The entrepreneur then solves:\n",
    "\n",
    "$$\\begin{align}\n",
    "    \\max_{\\bar{s}} \\dfrac{1}{2\\Delta} \\int_{\\bar{s}}^{1+\\Delta}(Rs-R\\bar{s})\\mbox{ }ds\n",
    "\\end{align}$$\n",
    "\n",
    "subject to F's participation constraint\n",
    "\n",
    "$$\\begin{align}\n",
    "    \\dfrac{1}{2\\Delta} \\int_{\\bar{s}}^{1+\\Delta} R\\bar{s}\\mbox{ }ds+\\dfrac{1}{2\\Delta}\\int_{1-\\Delta}^{\\bar{s}}(Rs-\\kappa)\\mbox{ }ds\\geq I\n",
    "\\end{align}$$\n",
    "\n",
    "Integrating out the expression we write this as:\n",
    "\n",
    "$$\\begin{align}\n",
    "       \\left[1+\\Delta-\\bar{s}\\right]R\\bar{s}+\\left[\\dfrac{R}{2}\\bar{s}^2-\\bar{s}\\kappa\\right]-\\left[\\dfrac{R}{2}(1-\\Delta)^2-(1-\\Delta)\\kappa\\right]\\geq 2\\Delta I,\n",
    "\\end{align}$$\n",
    "\n",
    "or rewritten as\n",
    "\n",
    "$$\\begin{align}\n",
    "    -\\dfrac{R}{2}\\bar{s}^2+\\left[R(1+\\Delta)-\\kappa\\right]\\bar{s}+(1-\\Delta)\\kappa-\\dfrac{R}{2}(1-\\Delta)^2\\geq 2\\Delta I. \\tag{PC}\n",
    "\\end{align}$$\n",
    "\n",
    "\n",
    "\n",
    "We note here that:\n",
    "* For $s<\\bar{s}:$ the entrepreneur receives 0. Thus the object function integrates from $\\bar{s}$ to $1+\\Delta$.\n",
    "* For $\\bar{s}\\leq s \\leq 1+\\Delta$, the financier receives $R\\bar{s}$. In the non-audit region he receives $Rs-\\kappa$.\n",
    "\n",
    "It is straightforward to see that for the entrepreneur, the lowest possible $\\bar{s}$ is preferred, where the participation constraint still holds."
   ]
  },
  {
   "cell_type": "markdown",
   "metadata": {},
   "source": [
    "To do this proceed as follows:\n",
    "\n",
    "* If $I$ is sufficiently small, the obvious solution is to choose $\\bar{s}=1-\\Delta$. This is feasible (participation constraint holds) if:\n",
    "\n",
    "$$\\begin{align}\n",
    "        R(1-\\Delta)\\geq I\n",
    "\\end{align}$$\n",
    "\n",
    "* There are two options now: Either there is **no** solution within $[1-\\Delta, 1+\\Delta]$. Otherwise the solution is given in the case where $(PC)$ holds with equality.\n",
    "\n",
    "Solving for $(PC)$ with equality, we have:\n",
    "\n",
    "$$\\begin{align}\n",
    " \\bar{s}^* = 1+\\Delta-\\dfrac{\\kappa}{R}-\\dfrac{1}{R}\\sqrt{(R(1+\\Delta)-\\kappa)^2+2R*\\left[(1-\\Delta)\\kappa-\\dfrac{R}{2}(1-\\Delta)^2-2\\Delta I\\right]}, \\tag{$s^*$}\n",
    "\\end{align}$$\n",
    "\n",
    "Note that there might not be any solution at all, if the term in the $\\sqrt{\\cdot}$ is negative. \n",
    "\n"
   ]
  },
  {
   "cell_type": "code",
   "execution_count": 4,
   "metadata": {},
   "outputs": [
    {
     "data": {
      "application/vnd.jupyter.widget-view+json": {
       "model_id": "8b6bba10476c419facd1159ce806033e",
       "version_major": 2,
       "version_minor": 0
      },
      "text/plain": [
       "interactive(children=(FloatSlider(value=1.5, description='I', max=2.0), FloatSlider(value=0.1, description='$\\…"
      ]
     },
     "metadata": {},
     "output_type": "display_data"
    },
    {
     "name": "stdout",
     "output_type": "stream",
     "text": [
      "0.8155711229775239\n"
     ]
    }
   ],
   "source": [
    "# Parameter values:\n",
    "R = 2\n",
    "I = 1.5\n",
    "Delta = 0.5\n",
    "kappa = 0.1\n",
    "# Grid of sbar:\n",
    "sbar = np.linspace(1-Delta, 1+Delta, 101)\n",
    "# PC constraint:\n",
    "int_plot.interactive_pc(R,I,Delta,kappa,sbar)\n",
    "s_star = 1+Delta-kappa/R-(1/R)*math.sqrt((R*(1+Delta)-kappa)**2+2*R*((1-Delta)*kappa-(R/2)*(1-Delta)**2-2*Delta*I))\n",
    "print(s_star)"
   ]
  },
  {
   "cell_type": "markdown",
   "metadata": {},
   "source": [
    "In the figure above (with values $R=2,I=1.5,\\Delta=0.5,\\kappa=0.1$) note that the PC constraint holds for values of $\\bar{s}$ slightly larger 0.8."
   ]
  },
  {
   "cell_type": "markdown",
   "metadata": {},
   "source": [
    "### Q5: Find the threshold cost $I$, where the project is profitable."
   ]
  },
  {
   "cell_type": "markdown",
   "metadata": {},
   "source": [
    "Using the result from Q4 the threshold $I^{max}$, where the project is financed as long as $I\\leq I^{\\max}$ is defined as follows:\n",
    "\n",
    "* If $R(1-\\Delta)\\geq I$ then $s^*=1-\\Delta$. In this case the largest cost $I$ that is financed, is given by $R(1-\\Delta)$.\n",
    "* If $R(1-\\Delta)<I$ then there exists a solution, recall that there exists a solution as long as the term $\\sqrt{\\cdot}$ in $s^*$ is non-negative.\n",
    "* Note furthermore, that $I$ enters negatively in that expression; thus the higher $I$, the closer we get to a scenario, where there is no $\\bar{s}^*$. \n",
    "* In other words, the largest $I$ that allows a feasible solution is defined by the condition:\n",
    "\n",
    "$$\\begin{align}\n",
    "(R(1+\\Delta)-\\kappa)^2+2R*\\left[(1-\\Delta)\\kappa-\\dfrac{R}{2}(1-\\Delta)^2-2\\Delta I\\right] = 0 && \\Rightarrow && I = R-\\kappa+\\dfrac{\\kappa^2}{4\\Delta R}.\n",
    "\\end{align}$$\n",
    "\n",
    "Combining the two potential scenarios the highest possible $I$ that can be financed is thus given by \n",
    "\n",
    "$$\\begin{align}\n",
    "     I^{max} = \\max \\Bigg\\lbrace \\underbrace{R-\\kappa+\\dfrac{\\kappa^2}{4\\Delta R}}_{\\text{Scenario 1}},\\mbox{ }\\mbox{ }\\underbrace{R(1-\\Delta)}_{\\text{Scenario 2}}\\Bigg\\rbrace.\n",
    "\\end{align}$$\n",
    "\n",
    "A few comments on this solution:\n",
    "\n",
    "* **When $\\kappa<2R\\Delta$:** The max-operator returns *scenario 1*. In this case $I^{max}$ is decreasing in both $\\kappa$ and $\\Delta$. Why?\n",
    "\n",
    "    * When $\\kappa$ increases the cost of auditing goes up. When $\\kappa<2\\Delta$ the $(PC)$ constraint is binding implying that $s^*>1-\\Delta$; in other words, the optimal debt contract involves some costly auditing. In this scenario a larger audit-cost makes investment projects less profitable over all $\\Rightarrow I^{max}$ decreases.\n",
    "    \n",
    "    * An increase in $\\Delta$ increases the uncertainty of the outcome. You may verify (either from just adjusting the graph above, or solving for the derivative) that $s^*$ in this case is increasing in $\\Delta$. In other words, the increase in $\\Delta$ increases the region of $s$, where the financier has to audit, in order to ensure zero expected profits. This lowers the profitability of the project for F, which lowers $I^{max}$.\n",
    "    \n",
    "* **When $\\kappa\\geq 2R\\Delta$:** The max operator returns *scenario 2*. \n",
    "\n",
    "    * In this case $I^{max}$ is simply given by $R(1-\\Delta)$: When there is no auditing at all, the project is still profitable for F. Thus any change in auditing-costs $(\\kappa)$ does not affect $I^{max}$. \n",
    "    \n",
    "    * An increase in $\\Delta$ clearly lowers $s^*$ proportionally. As the financier in this case always receive the simple payoff $R^F=Rs^* = R(1-\\Delta)$, an increase in $\\Delta$ lowers the profits from the project, thus $I$ decreases. \n",
    "   \n"
   ]
  }
 ],
 "metadata": {
  "kernelspec": {
   "display_name": "Python 3",
   "language": "python",
   "name": "python3"
  },
  "language_info": {
   "codemirror_mode": {
    "name": "ipython",
    "version": 3
   },
   "file_extension": ".py",
   "mimetype": "text/x-python",
   "name": "python",
   "nbconvert_exporter": "python",
   "pygments_lexer": "ipython3",
   "version": "3.7.1"
  }
 },
 "nbformat": 4,
 "nbformat_minor": 2
}
