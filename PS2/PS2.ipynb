{
 "cells": [
  {
   "cell_type": "code",
   "execution_count": 109,
   "metadata": {},
   "outputs": [],
   "source": [
    "import numpy as np\n",
    "import math\n",
    "from scipy import optimize\n",
    "import scipy.stats as stats\n",
    "import cap_equi as func\n",
    "\n",
    "import scipy.stats as stats\n",
    "\n",
    "# For plots:\n",
    "import matplotlib.pyplot as plt\n",
    "import matplotlib as mpl\n",
    "%matplotlib inline\n",
    "plt.style.use('seaborn-whitegrid')\n",
    "mpl.style.use('seaborn')\n",
    "prop_cycle = plt.rcParams[\"axes.prop_cycle\"]\n",
    "colors = prop_cycle.by_key()[\"color\"]\n",
    "import ipywidgets as widgets\n",
    "from ipywidgets import interact, interact_manual"
   ]
  },
  {
   "cell_type": "markdown",
   "metadata": {},
   "source": [
    "# PS2, part 1: Welfare effects of capital injection"
   ]
  },
  {
   "cell_type": "markdown",
   "metadata": {},
   "source": [
    "The exercise consists of the core setup:\n",
    "* Two periods, $t=0,1$,\n",
    "* Two types of agents: Consumers and entrepreneurs. \n",
    "* **Consumers:**\n",
    "    * Linear utility $u_c = c_0^c+c_1^c$.\n",
    "    * Large endowment of consumption goods in each period: $e$. \n",
    "    * Labor endowment of $e_l=1$. Inelastically supplied in a competitive labor market at the price $w_1$.\n",
    "* **Entrepreneurs:**\n",
    "    * Linear utility $u_e = c_0^e+c_1^e$.\n",
    "    * Small endowment $n_0$ in period 0. \n",
    "    * Borrow $b_1$, invest in capital $k_1$. \n",
    "    * Period 1 they hire labor $l_1$ at wage $w_1$.\n",
    "    * Entrepreneurs utilize capital and labor in $t=1$ with Cobb-Douglas production function \n",
    "    $$ \\begin{align} \n",
    "    y_1 = k_1^{\\alpha}l_1^{1-\\alpha} \\notag\n",
    "    \\end{align} $$\n",
    "    * **Entrepreneurs are borrowing constrained:**\n",
    "    $$\\begin{align} \n",
    "    b_1\\leq \\lambda \\left(y_1-w_1l_1\\right), && \\lambda\\in (0,1) \\notag\n",
    "    \\end{align} $$\n",
    "* Assume that endowment of consumption goods $(e)$ is *sufficiently* large, for the interest rate to be 1 in equilibrium. (We will show what *sufficiently* means here)."
   ]
  },
  {
   "cell_type": "markdown",
   "metadata": {},
   "source": [
    "## Q1: Three parts. (i) State the entrepreneur's problem. (ii) Argue that entrepreneurs will choose to maximize profits in period 1, a linear function of $k_1$, and (3) restate entrepreneur's problem as a simple linear problem."
   ]
  },
  {
   "cell_type": "markdown",
   "metadata": {},
   "source": [
    "### (i) Entrepreneur problem:"
   ]
  },
  {
   "cell_type": "markdown",
   "metadata": {},
   "source": [
    "Interpret bullets from **entrepreneurs** above as a problem:\n",
    "\n",
    "$$\n",
    "\\begin{align}\n",
    "    \\max_{c_0,c_1,k_1,l_1,y_1,b_1} \\mbox{ } c_0+c_1,& \\notag \\\\ \n",
    "    \\text{s.t. }\\mbox{ }c_0+k_1 &= n_0+b_1 \\notag \\\\  \n",
    "                        c_1+b_1 &= y_1-w_1l_1 \\tag{Problem 1}\\\\ \n",
    "                            y_1 &= k_1^{\\alpha}l_1^{1-\\alpha} \\notag \\\\ \n",
    "                            b_1\\leq &\\lambda \\left(y_1-w_1l_1\\right) \\notag\n",
    "\\end{align}$$"
   ]
  },
  {
   "cell_type": "markdown",
   "metadata": {},
   "source": [
    "States that:\n",
    "1. Maximize consumption (risk-neutrality).\n",
    "2. Budget $t=0$: Consumption $(c_0)$ and investment $(k_1)$ equals income from endowment $(n_0)$ and borrowing $(b_1)$.\n",
    "3. Budget $t=1$: Consumption $(c_1)$ and repayment of debt $(b_1)$ equals income from production $(y_1)$ minues wages $(w_1l_1)$.\n",
    "4. Production is Cobb-Douglas.\n",
    "5. Entrepreneur is credit-constrained, with $\\lambda$ denoting the degree of future profits that can be used as collateral.\n",
    "\n",
    "Substitute for $c_0$ and $c_1$ into the utility function, using the budgets for $t=0,1$:\n",
    "\n",
    "$$\\begin{align} \n",
    "    c_0+c_1 &= n_0+b_1-k_1+y_1-w_1l_1-b_1 \\\\ \n",
    "            &= n_0+y_1-k_1-w_1l_1 \n",
    "\\end{align}$$\n",
    "\n",
    "Substitue for $y_1$ using the Cobb-Douglas function (remember you should substitute for $y_1$ in both the object function **and** the constraints). The problem is then reduced to:\n",
    "\n",
    "$$\\begin{align}\n",
    "    \\max_{k_1,l_1,b_1} n_0+k_1^{\\alpha}l_1^{1-\\alpha}-k_1-w_1l_1, && s.t. b_1\\leq \\lambda \\left(k_1^{\\alpha}l_1^{1-\\alpha}-w_1l_1\\right). \\tag{Problem 2}\n",
    "\\end{align}$$ \n",
    "\n",
    "The Lagrangian function corresponding to this problem is then given by:\n",
    "\n",
    "$$\\begin{align} \n",
    "    \\mathcal{L}_2 = n_0+k_1^{\\alpha}l_1^{1-\\alpha}-k_1-w_1l_1+\\mu\\left[\\lambda\\left(k_1^{\\alpha}l_1^{1-\\alpha}-w_1l_1\\right)-b_1\\right],\n",
    "\\end{align}$$\n",
    "\n",
    "where $\\mu\\geq0$ is the shadow-variable related to the credit-constraint. As in problem set, exercise 3.5 in (JT), this problem is characterized by a set of first order conditions with Karush-Kuhn-Tucker conditions for $\\mu$ and the credit constraint. This is because of the inequality constraint (instead of standard Lagrangian approach when the constraint is with \"=\").\n"
   ]
  },
  {
   "cell_type": "markdown",
   "metadata": {},
   "source": [
    "### (ii) Optimal choice of labor:"
   ]
  },
  {
   "cell_type": "markdown",
   "metadata": {},
   "source": [
    "Note that profits in $t=1$ is given by:\n",
    "\n",
    "$$\\begin{align}\n",
    "    \\pi_1 = k_1^{\\alpha}l_1^{1-\\alpha}-w_1l_1.\n",
    "\\end{align}$$\n",
    "\n",
    "Optimal choice of labor $(l^*)$ is then characterized by:\n",
    "\n",
    "$$\\begin{align}\n",
    "    \\dfrac{\\partial \\mathcal{L}}{\\partial l_1} = (1-\\alpha)k_1^{\\alpha}l_1^{-\\alpha} -w_1 + \\mu\\lambda\\left[(1-\\alpha)k_1^{\\alpha}l_1^{-\\alpha}-w_1\\right] = 0\n",
    "\\end{align}$$\n",
    "\n",
    "We can rewrite this condition as:\n",
    "\n",
    "$$\\begin{align}\n",
    "    \\left[(1-\\alpha)k_1^{\\alpha}l_1^{-\\alpha}-w_1\\right](1+\\mu\\lambda)=0 && \\Rightarrow && w_1 = (1-\\alpha)k_1^{\\alpha}l_1^{-\\alpha}\n",
    "\\end{align}$$\n",
    "\n",
    "Note that this corresponds to maximizing $\\pi_1$ wrt. labor. Note further that we can use this to write up two other terms:\n",
    "\n",
    "$$\\begin{align} \n",
    "w_1l_1^* = (1-\\alpha)k_1^{\\alpha}(l_1^*)^{1-\\alpha}, \\tag{Labor Share}\n",
    "\\end{align}$$ \n",
    "\n",
    "and by isolating for $l_1$:\n",
    "\n",
    "$$\\begin{align}\n",
    "    l_1^* = \\dfrac{(1-\\alpha)^{1/\\alpha}k_1}{w_1^{1/\\alpha}}. \\tag{$l^*$}\n",
    "\\end{align}$$\n",
    "\n",
    "To show that the profit function is linear in $k_1$, when labor is chosen optimally, start by using (Labor Share):\n",
    "\n",
    "$$\\begin{align}\n",
    "    \\pi_1(l=l^*) &= k_1^{\\alpha}(l_1^*)^{1-\\alpha}-w_1l_1^* \\notag \\\\\n",
    "                 &= \\alpha k_1^{\\alpha}(l_1^*)^{1-\\alpha}\n",
    "\\end{align}$$\n",
    "\n",
    "Now substitute for $(l^*)$:\n",
    "\n",
    "$$\\begin{align}\n",
    "    \\pi_1(l=l^*) &= \\alpha k_1^{\\alpha}\\dfrac{(1-\\alpha)^{(1-\\alpha)/\\alpha}k_1^{1-\\alpha}}{w_1^{(1-\\alpha)/\\alpha}} \\notag \\\\ \n",
    "                 &= \\underbrace{\\dfrac{\\alpha (1-\\alpha)^{(1-\\alpha)/\\alpha}}{w_1^{(1-\\alpha)/\\alpha}}}_{\\equiv R(w_1)}k_1 \\tag{Profit}\n",
    "\\end{align}$$\n",
    "\n",
    "\n",
    "\n",
    "\n",
    "\n"
   ]
  },
  {
   "cell_type": "markdown",
   "metadata": {},
   "source": [
    "### (iii) Restate as linear problem:"
   ]
  },
  {
   "cell_type": "markdown",
   "metadata": {},
   "source": [
    "Using (Profit) in (Problem 2):\n",
    "\n",
    "$$\\begin{align}\n",
    "    \\max_{k_1,b_1}\\mbox{ }n_0-k_1+R(w_1)k_1, && \\text{s.t. } b_1\\leq \\lambda R(w_1)k_1 \\tag{Problem 3}.\n",
    "\\end{align} $$"
   ]
  },
  {
   "cell_type": "markdown",
   "metadata": {},
   "source": [
    "## Q2: Derive entrepreneur's demand for capital, and argue how the solution depends on $\\lambda$ and $R(w_1)$."
   ]
  },
  {
   "cell_type": "markdown",
   "metadata": {},
   "source": [
    "Problem $3$ is linear in $k_1$. Thus capital demand depends on:\n",
    "\n",
    "* If $R(w_1)<1$: Investment in capital is not profitable, $k_1^*=0$. (it is implicitly assumed that $k\\geq0$)\n",
    "* If $\\lambda R(w_1)>1$: Investment in capital is so profitable that borrowing constraint never binds, $k_1^*=\\infty$.\n",
    "* If $\\lambda R(w_1)<1<R(w_1)$: Capital is postponed as much as possible, but borrowing constraint will bind. Solution is then to set $c_0=0$ in the budget at $t=0$, and use that $b_1$ is determined by the borrowing constraint:\n",
    "\n",
    "$$\\begin{align} \n",
    "    k_1^* &= n_0 +b_1 \\\\\n",
    "          &= n_0+\\lambda R(w_1)k_1^* \\\\ \n",
    "\\Rightarrow k_1^* &= \\dfrac{n_0}{1-\\lambda R(w_1)}\n",
    "\\end{align}$$\n",
    "\n",
    "* Finally, if $R(w_1)=1$ the entrepreneur is indifferent between consumption and investment. In this case capital demand is indeterminate:\n",
    "$$\\begin{align}\n",
    "    k_1^*\\in\\left[0,\\mbox{ }\\dfrac{n_0}{1-\\lambda}\\right].\n",
    "\\end{align}$$"
   ]
  },
  {
   "cell_type": "markdown",
   "metadata": {},
   "source": [
    "**Illustrating demand for capital, and equilibrium capital**:\n",
    "\n",
    "Before we proceed to the next questions, let us briefly illustrate how capital demand looks like, and how it behaves in equilibrium."
   ]
  },
  {
   "cell_type": "code",
   "execution_count": 110,
   "metadata": {},
   "outputs": [
    {
     "ename": "TypeError",
     "evalue": "capital_demand_upper() missing 1 required positional argument: 'n_0x'",
     "output_type": "error",
     "traceback": [
      "\u001b[1;31m---------------------------------------------------------------------------\u001b[0m",
      "\u001b[1;31mTypeError\u001b[0m                                 Traceback (most recent call last)",
      "\u001b[1;32m<ipython-input-110-82888641bc88>\u001b[0m in \u001b[0;36m<module>\u001b[1;34m\u001b[0m\n\u001b[0;32m     16\u001b[0m \u001b[0malpha2\u001b[0m \u001b[1;33m=\u001b[0m \u001b[1;36m0.5\u001b[0m\u001b[1;33m\u001b[0m\u001b[1;33m\u001b[0m\u001b[0m\n\u001b[0;32m     17\u001b[0m \u001b[1;33m\u001b[0m\u001b[0m\n\u001b[1;32m---> 18\u001b[1;33m \u001b[0mfig\u001b[0m \u001b[1;33m=\u001b[0m \u001b[0mfunc\u001b[0m\u001b[1;33m.\u001b[0m\u001b[0mplot_cap\u001b[0m\u001b[1;33m(\u001b[0m\u001b[0mR_grid\u001b[0m\u001b[1;33m,\u001b[0m\u001b[0mN_R\u001b[0m\u001b[1;33m,\u001b[0m\u001b[0mn_0\u001b[0m\u001b[1;33m,\u001b[0m\u001b[0m_lambda\u001b[0m\u001b[1;33m,\u001b[0m\u001b[0malpha\u001b[0m\u001b[1;33m,\u001b[0m\u001b[0mInf\u001b[0m\u001b[1;33m,\u001b[0m\u001b[0mn_02\u001b[0m\u001b[1;33m,\u001b[0m\u001b[0m_lambda2\u001b[0m\u001b[1;33m,\u001b[0m\u001b[0malpha2\u001b[0m\u001b[1;33m)\u001b[0m\u001b[1;33m\u001b[0m\u001b[1;33m\u001b[0m\u001b[0m\n\u001b[0m\u001b[0;32m     19\u001b[0m \u001b[1;33m\u001b[0m\u001b[0m\n\u001b[0;32m     20\u001b[0m \u001b[1;33m\u001b[0m\u001b[0m\n",
      "\u001b[1;32m~\\Documents\\VisualCode\\Teaching\\FinancialFrictionsSummer2019\\FinancialFrictions2019\\PS2\\cap_equi.py\u001b[0m in \u001b[0;36mplot_cap\u001b[1;34m(R, N_R, n_0, _lambda, alpha, Inf, n_02, _lambda_2, alpha_2)\u001b[0m\n\u001b[0;32m     14\u001b[0m         \u001b[0mthird_u\u001b[0m \u001b[1;33m=\u001b[0m \u001b[0mthird\u001b[0m\u001b[1;33m[\u001b[0m\u001b[0mnp\u001b[0m\u001b[1;33m.\u001b[0m\u001b[0mwhere\u001b[0m\u001b[1;33m(\u001b[0m\u001b[0mlambda_x\u001b[0m\u001b[1;33m*\u001b[0m\u001b[0mR\u001b[0m\u001b[1;33m>=\u001b[0m\u001b[1;36m1\u001b[0m\u001b[1;33m)\u001b[0m\u001b[1;33m]\u001b[0m\u001b[1;33m\u001b[0m\u001b[1;33m\u001b[0m\u001b[0m\n\u001b[0;32m     15\u001b[0m         \u001b[1;32mreturn\u001b[0m \u001b[0mnp\u001b[0m\u001b[1;33m.\u001b[0m\u001b[0mconcatenate\u001b[0m\u001b[1;33m(\u001b[0m\u001b[1;33m(\u001b[0m\u001b[0mfirst_u\u001b[0m\u001b[1;33m,\u001b[0m\u001b[0msecond_u\u001b[0m\u001b[1;33m,\u001b[0m\u001b[0mthird_u\u001b[0m\u001b[1;33m)\u001b[0m\u001b[1;33m)\u001b[0m\u001b[1;33m\u001b[0m\u001b[1;33m\u001b[0m\u001b[0m\n\u001b[1;32m---> 16\u001b[1;33m     \u001b[0mcd_upper\u001b[0m \u001b[1;33m=\u001b[0m \u001b[0mcapital_demand_upper\u001b[0m\u001b[1;33m(\u001b[0m\u001b[0mR\u001b[0m\u001b[1;33m,\u001b[0m\u001b[0m_lambda\u001b[0m\u001b[1;33m,\u001b[0m\u001b[0mn_0\u001b[0m\u001b[1;33m)\u001b[0m\u001b[1;33m\u001b[0m\u001b[1;33m\u001b[0m\u001b[0m\n\u001b[0m\u001b[0;32m     17\u001b[0m     \u001b[0mcd_upper2\u001b[0m \u001b[1;33m=\u001b[0m \u001b[0mcapital_demand_upper\u001b[0m\u001b[1;33m(\u001b[0m\u001b[0mR\u001b[0m\u001b[1;33m,\u001b[0m\u001b[0m_lambda_2\u001b[0m\u001b[1;33m,\u001b[0m\u001b[0mn_02\u001b[0m\u001b[1;33m)\u001b[0m\u001b[1;33m\u001b[0m\u001b[1;33m\u001b[0m\u001b[0m\n\u001b[0;32m     18\u001b[0m     \u001b[0mcd_equi\u001b[0m \u001b[1;33m=\u001b[0m \u001b[1;33m(\u001b[0m\u001b[0malpha\u001b[0m\u001b[1;33m/\u001b[0m\u001b[0mR\u001b[0m\u001b[1;33m)\u001b[0m\u001b[1;33m**\u001b[0m\u001b[1;33m(\u001b[0m\u001b[1;36m1\u001b[0m\u001b[1;33m/\u001b[0m\u001b[1;33m(\u001b[0m\u001b[1;36m1\u001b[0m\u001b[1;33m-\u001b[0m\u001b[0malpha\u001b[0m\u001b[1;33m)\u001b[0m\u001b[1;33m)\u001b[0m\u001b[1;33m\u001b[0m\u001b[1;33m\u001b[0m\u001b[0m\n",
      "\u001b[1;31mTypeError\u001b[0m: capital_demand_upper() missing 1 required positional argument: 'n_0x'"
     ]
    }
   ],
   "source": [
    "# Exogenous parameters:\n",
    "n_0 = 1\n",
    "_lambda = 0.5\n",
    "alpha = 0.5\n",
    "# Display 'infinity' with a sufficiently high level, when plotting this:\n",
    "Inf = 10**5\n",
    "# Exogenous grid of R:\n",
    "R_min = 0.1\n",
    "R_max = 2\n",
    "N_R = 100\n",
    "R_grid = np.linspace(R_min, R_max, N_R)\n",
    "\n",
    "# Change them to:\n",
    "n_02 = 1.1\n",
    "_lambda2 = 0.5\n",
    "alpha2 = 0.5\n",
    "\n",
    "fig = func.plot_cap(R_grid,N_R,n_0,_lambda,alpha,Inf,n_02,_lambda2,alpha2)\n",
    "\n",
    "\n",
    "#def capital_demand_upper(R):\n",
    "#    first = 0*np.ones(N_R)\n",
    "#    first_u = first[np.where(1>R)]\n",
    "#    second = n_0/(1-_lambda*R)\n",
    "#    second_u = second[np.where(np.logical_and(R>=1,_lambda*R<1))]\n",
    "#    third = Inf*np.ones(N_R)\n",
    "#    third_u = third[np.where(_lambda*R>=1)]\n",
    "#    return np.concatenate((first_u,second_u,third_u))\n",
    "\n",
    "#def capital_demand_lower(R):\n",
    "#    first = 0*np.ones(N_R)\n",
    "#   first_l = first[np.where(1>=R)]\n",
    "#   second = n_0/(1-_lambda*R)\n",
    "#    second_l = second[np.where(np.logical_and(R>1, _lambda*R<1))]\n",
    "#    third = Inf*np.ones(N_R)\n",
    "#    third_l = third[np.where(_lambda*R>=1)]\n",
    "#    return np.concatenate((first_l,second_l,third_l))\n",
    "\n",
    "#cd_upper = capital_demand_upper(R_grid)\n",
    "#cd_lower = capital_demand_lower(R_grid)\n",
    "\n",
    "#cd_equi = (alpha/R_grid)**(1/(1-alpha))\n",
    "\n",
    "\n",
    "#fig = plt.figure(frameon=False, figsize=(12,6), dpi=100)\n",
    "#ax = fig.add_subplot(1,1,1)\n",
    "#ax.plot(R_grid, cd_upper)\n",
    "#ax.plot(R_grid, cd_lower, color='red', alpha=0.5)\n",
    "#ax.plot(R_grid, cd_equi)\n",
    "#ax.fill_between(R_grid, cd_upper, cd_lower, alpha=0.5)\n",
    "#ax.set_xlim([0, 2])\n",
    "#ax.set_ylim([0, 10])\n",
    "    \n",
    "# Labels:\n",
    "#ax.set_xlabel('$R(w_1)$')\n",
    "#ax.set_ylabel('Capital')\n",
    "\n",
    "#fig.tight_layout()"
   ]
  },
  {
   "cell_type": "markdown",
   "metadata": {},
   "source": [
    "## Q3: Show the cutoff $n^*$, where $n_0 \\geq n^*$$ implies that the first-best level of capital can be financed, and the borrowing constraint is not binding."
   ]
  },
  {
   "cell_type": "markdown",
   "metadata": {},
   "source": [
    "Let us define the first-best level of capital. Recall that in equilibrium $l_1=1$ (as this is the endowment supplied by consumers). Define first-best as **the level of capital that maximizes net output**:\n",
    "\n",
    "$$\\begin{align} \n",
    "    \\max_{k_1} k_1^{\\alpha}-k_1 && \\Rightarrow && k_1^{fb} = \\alpha^{1/(1-\\alpha)}.\n",
    "\\end{align}$$\n",
    "\n",
    "In equilibrium the interest rate $R(w_1)$ is defined by the marginal product of capital:\n",
    "\n",
    "$$\\begin{align}\n",
    "    R(w_1) = \\alpha k_1^{\\alpha-1}, && \\Rightarrow && k_1 = \\left(\\dfrac{\\alpha}{R(w_1)}\\right)^{1/(1-\\alpha)}\n",
    "\\end{align}$$\n",
    "\n",
    "Thus for $k_1=k_1^{fb}$ we need $R(w_1)=1$. When $R(w_1)=1$ the capital demand was indeterminate, i.e. it covered a range of possible solutions. The optimal level $k_1^{fb}$ is one of the feasible capital demand levels as long as:\n",
    "\n",
    "$$\\begin{align}\n",
    "k_1^{fb}\\equiv \\alpha^{1/(1-\\alpha)}\\in\\left[0,\\mbox{ }\\dfrac{n_0}{1-\\lambda}\\right]. \n",
    "\\end{align}$$\n",
    "\n",
    "As long as $n_0$ is sufficiently large the first best is thus an equilibrium. The threshold $n^*$ where the first best is an equilibrium for $n_0\\geq n^*$ is then given by the condition above with equality:\n",
    "\n",
    "$$\\begin{align}\n",
    "    \\alpha^{1/(1-\\alpha)} = \\dfrac{n^*}{1-\\lambda} && \\Rightarrow && n^* = (1-\\lambda)\\alpha^{1/(1-\\alpha)} \n",
    "\\end{align}$$\n",
    "\n",
    "\n",
    "\n",
    "**Addtional remark:** Give another explanation for why we need R=1 for optimality:\n",
    "\n",
    "Optimality requires that the $\\color{blue}{\\text{marginal rate of transformation}}$ equals $\\color{blue}{\\text{the marginal rate of substitution}}$"
   ]
  },
  {
   "cell_type": "markdown",
   "metadata": {},
   "source": [
    "## Q4: Show that if n<n* there is an equilibrium where the entrepreneurs are constrained and $k_1$ becomes an increasing function of $n_0$."
   ]
  },
  {
   "cell_type": "markdown",
   "metadata": {},
   "source": [
    "* **Capital demand:** Recall that when $n_0$ is relatively small, capital. "
   ]
  },
  {
   "cell_type": "code",
   "execution_count": null,
   "metadata": {},
   "outputs": [],
   "source": []
  }
 ],
 "metadata": {
  "kernelspec": {
   "display_name": "Python 3",
   "language": "python",
   "name": "python3"
  },
  "language_info": {
   "codemirror_mode": {
    "name": "ipython",
    "version": 3
   },
   "file_extension": ".py",
   "mimetype": "text/x-python",
   "name": "python",
   "nbconvert_exporter": "python",
   "pygments_lexer": "ipython3",
   "version": "3.7.1"
  }
 },
 "nbformat": 4,
 "nbformat_minor": 2
}
